{
 "cells": [
  {
   "cell_type": "markdown",
   "id": "a25a1730",
   "metadata": {},
   "source": [
    "<center>\n",
    "  <a href=\"MLSD-05-FeatureSelection-B.ipynb\" target=\"_self\">Feature Selection B</a> | <a href=\"./\">Content Page</a> | <a href=\"MLSD-06-MachineLearningErrors.ipynb\">Machine Learning Errors</a>\n",
    "</center>"
   ]
  },
  {
   "cell_type": "markdown",
   "id": "ac816c2f",
   "metadata": {},
   "source": [
    "# <center>FEATURE SELECTION: EXERCISE 1</center>\n",
    "\n",
    "<center><b>Copyright &copy 2023 by DR DANNY POO</b><br> e:dannypoo@nus.edu.sg<br> w:drdannypoo.com</center><br>"
   ]
  },
  {
   "cell_type": "markdown",
   "id": "6027d4b9",
   "metadata": {},
   "source": [
    "# Diabetes\n",
    "You are given the Pima Indians Diabetes dataset  ``./data/diabetes/diabetes.csv``.\n",
    "\n",
    "**Description of attributes:**<br>\n",
    "For Each Attribute: (all numeric-valued)\n",
    "   1. Number of times pregnant\n",
    "   2. Plasma glucose concentration a 2 hours in an oral glucose tolerance test\n",
    "   3. Diastolic blood pressure (mm Hg)\n",
    "   4. Triceps skin fold thickness (mm)\n",
    "   5. 2-Hour serum insulin (mu U/ml)\n",
    "   6. Body mass index (weight in kg/(height in m)^2)\n",
    "   7. Diabetes pedigree function\n",
    "   8. Age (years)\n",
    "   9. Class variable (0 or 1)\n",
    "\n",
    "<b>Objective: To determine important features in dataset for classification.</b>\n",
    "\n",
    "Skeletal code is provided here. Complete those indicated `write code here`."
   ]
  },
  {
   "cell_type": "markdown",
   "id": "0cd3a254",
   "metadata": {},
   "source": [
    "# Read in and Explore Data Set"
   ]
  },
  {
   "cell_type": "code",
   "execution_count": 1,
   "id": "b8d031b0",
   "metadata": {},
   "outputs": [],
   "source": [
    "# Import libraries\n",
    "# write code here\n",
    "\n",
    "\n"
   ]
  },
  {
   "cell_type": "code",
   "execution_count": 2,
   "id": "7e560e7c",
   "metadata": {
    "scrolled": true
   },
   "outputs": [
    {
     "data": {
      "text/html": [
       "<div>\n",
       "<style scoped>\n",
       "    .dataframe tbody tr th:only-of-type {\n",
       "        vertical-align: middle;\n",
       "    }\n",
       "\n",
       "    .dataframe tbody tr th {\n",
       "        vertical-align: top;\n",
       "    }\n",
       "\n",
       "    .dataframe thead th {\n",
       "        text-align: right;\n",
       "    }\n",
       "</style>\n",
       "<table border=\"1\" class=\"dataframe\">\n",
       "  <thead>\n",
       "    <tr style=\"text-align: right;\">\n",
       "      <th></th>\n",
       "      <th>preg_count</th>\n",
       "      <th>glucose_concentration</th>\n",
       "      <th>blood_pressure</th>\n",
       "      <th>skin_thickness</th>\n",
       "      <th>serum_insulin</th>\n",
       "      <th>bmi</th>\n",
       "      <th>pedigree_function</th>\n",
       "      <th>age</th>\n",
       "      <th>class</th>\n",
       "    </tr>\n",
       "  </thead>\n",
       "  <tbody>\n",
       "    <tr>\n",
       "      <th>0</th>\n",
       "      <td>6</td>\n",
       "      <td>148</td>\n",
       "      <td>72</td>\n",
       "      <td>35</td>\n",
       "      <td>0</td>\n",
       "      <td>33.6</td>\n",
       "      <td>0.627</td>\n",
       "      <td>50</td>\n",
       "      <td>1</td>\n",
       "    </tr>\n",
       "    <tr>\n",
       "      <th>1</th>\n",
       "      <td>1</td>\n",
       "      <td>85</td>\n",
       "      <td>66</td>\n",
       "      <td>29</td>\n",
       "      <td>0</td>\n",
       "      <td>26.6</td>\n",
       "      <td>0.351</td>\n",
       "      <td>31</td>\n",
       "      <td>0</td>\n",
       "    </tr>\n",
       "    <tr>\n",
       "      <th>2</th>\n",
       "      <td>8</td>\n",
       "      <td>183</td>\n",
       "      <td>64</td>\n",
       "      <td>0</td>\n",
       "      <td>0</td>\n",
       "      <td>23.3</td>\n",
       "      <td>0.672</td>\n",
       "      <td>32</td>\n",
       "      <td>1</td>\n",
       "    </tr>\n",
       "    <tr>\n",
       "      <th>3</th>\n",
       "      <td>1</td>\n",
       "      <td>89</td>\n",
       "      <td>66</td>\n",
       "      <td>23</td>\n",
       "      <td>94</td>\n",
       "      <td>28.1</td>\n",
       "      <td>0.167</td>\n",
       "      <td>21</td>\n",
       "      <td>0</td>\n",
       "    </tr>\n",
       "    <tr>\n",
       "      <th>4</th>\n",
       "      <td>0</td>\n",
       "      <td>137</td>\n",
       "      <td>40</td>\n",
       "      <td>35</td>\n",
       "      <td>168</td>\n",
       "      <td>43.1</td>\n",
       "      <td>2.288</td>\n",
       "      <td>33</td>\n",
       "      <td>1</td>\n",
       "    </tr>\n",
       "  </tbody>\n",
       "</table>\n",
       "</div>"
      ],
      "text/plain": [
       "   preg_count  glucose_concentration  blood_pressure  skin_thickness  \\\n",
       "0           6                    148              72              35   \n",
       "1           1                     85              66              29   \n",
       "2           8                    183              64               0   \n",
       "3           1                     89              66              23   \n",
       "4           0                    137              40              35   \n",
       "\n",
       "   serum_insulin   bmi  pedigree_function  age  class  \n",
       "0              0  33.6              0.627   50      1  \n",
       "1              0  26.6              0.351   31      0  \n",
       "2              0  23.3              0.672   32      1  \n",
       "3             94  28.1              0.167   21      0  \n",
       "4            168  43.1              2.288   33      1  "
      ]
     },
     "execution_count": 2,
     "metadata": {},
     "output_type": "execute_result"
    }
   ],
   "source": [
    "# Read in the dataset. Preview the dataset by printing the first 5 rows of dataframe.\n",
    "# write code here\n",
    "df = pd.read_csv('./data/diabetes/diabetes.csv')\n",
    "df.head()"
   ]
  },
  {
   "cell_type": "code",
   "execution_count": 3,
   "id": "e6612d7e",
   "metadata": {},
   "outputs": [],
   "source": [
    "# Create features and target\n",
    "# write code here\n",
    "\n",
    "\n"
   ]
  },
  {
   "cell_type": "code",
   "execution_count": 4,
   "id": "c241cb9c",
   "metadata": {},
   "outputs": [
    {
     "name": "stdout",
     "output_type": "stream",
     "text": [
      "(768, 8) \n",
      " [[6.000e+00 1.480e+02 7.200e+01 3.500e+01 0.000e+00 3.360e+01 6.270e-01\n",
      "  5.000e+01]\n",
      " [1.000e+00 8.500e+01 6.600e+01 2.900e+01 0.000e+00 2.660e+01 3.510e-01\n",
      "  3.100e+01]\n",
      " [8.000e+00 1.830e+02 6.400e+01 0.000e+00 0.000e+00 2.330e+01 6.720e-01\n",
      "  3.200e+01]\n",
      " [1.000e+00 8.900e+01 6.600e+01 2.300e+01 9.400e+01 2.810e+01 1.670e-01\n",
      "  2.100e+01]\n",
      " [0.000e+00 1.370e+02 4.000e+01 3.500e+01 1.680e+02 4.310e+01 2.288e+00\n",
      "  3.300e+01]]\n"
     ]
    }
   ],
   "source": [
    "# Print X shape and first 5 rows\n",
    "print(X.shape, \"\\n\", X[0:5])"
   ]
  },
  {
   "cell_type": "code",
   "execution_count": 5,
   "id": "9796a753",
   "metadata": {},
   "outputs": [
    {
     "name": "stdout",
     "output_type": "stream",
     "text": [
      "(768,) \n",
      " [1. 0. 1. 0. 1.]\n"
     ]
    }
   ],
   "source": [
    "# Print y shape and first 5 rows\n",
    "print(y.shape, \"\\n\", y[0:5])"
   ]
  },
  {
   "cell_type": "markdown",
   "id": "79c622b7",
   "metadata": {},
   "source": [
    "# Univariate Selection"
   ]
  },
  {
   "cell_type": "code",
   "execution_count": 6,
   "id": "c1265801",
   "metadata": {},
   "outputs": [],
   "source": [
    "# Import libraries\n",
    "# To use sklearn.feature_selection.SelectKBest and f_classif() function to select the 4 best features\n",
    "# write code here\n",
    "\n",
    "\n"
   ]
  },
  {
   "cell_type": "code",
   "execution_count": 7,
   "id": "1fd34870",
   "metadata": {},
   "outputs": [],
   "source": [
    "# To select 4 best features\n",
    "select = SelectKBest(score_func=f_classif, k=4)"
   ]
  },
  {
   "cell_type": "code",
   "execution_count": 8,
   "id": "6d18919d",
   "metadata": {},
   "outputs": [],
   "source": [
    "# Fit it and assign the fit to variable 'best'\n",
    "# write code here\n",
    "\n"
   ]
  },
  {
   "cell_type": "code",
   "execution_count": 9,
   "id": "21926515",
   "metadata": {},
   "outputs": [
    {
     "name": "stdout",
     "output_type": "stream",
     "text": [
      "[ 39.67  213.162   3.257   4.304  13.281  71.772  23.871  46.141]\n"
     ]
    }
   ],
   "source": [
    "# Summarize scores\n",
    "np.set_printoptions(precision=3)\n",
    "print(best.scores_)"
   ]
  },
  {
   "cell_type": "code",
   "execution_count": 10,
   "id": "faa9d466",
   "metadata": {},
   "outputs": [],
   "source": [
    "# Select the 4 features with the highest scores\n",
    "# write code here\n",
    "\n"
   ]
  },
  {
   "cell_type": "markdown",
   "id": "b3e7e69e",
   "metadata": {},
   "source": [
    "**Observations**\n",
    "- Scores for each of the 8 attributes are listed.\n",
    "- Those attributes with the highest scores are with indexes 0(preg_count), 1(glucose_concentration), 5(bmi), and 7(age)."
   ]
  },
  {
   "cell_type": "code",
   "execution_count": 11,
   "id": "2303c3e0",
   "metadata": {},
   "outputs": [
    {
     "name": "stdout",
     "output_type": "stream",
     "text": [
      "[[  6.  148.   33.6  50. ]\n",
      " [  1.   85.   26.6  31. ]\n",
      " [  8.  183.   23.3  32. ]\n",
      " [  1.   89.   28.1  21. ]\n",
      " [  0.  137.   43.1  33. ]]\n"
     ]
    }
   ],
   "source": [
    "# Summarize selected features\n",
    "print(features[0:5,:])"
   ]
  },
  {
   "cell_type": "markdown",
   "id": "9d97e6e5",
   "metadata": {},
   "source": [
    "# Feature Importance"
   ]
  },
  {
   "cell_type": "code",
   "execution_count": 12,
   "id": "1aa798d7",
   "metadata": {},
   "outputs": [],
   "source": [
    "# Import libraries\n",
    "from sklearn.ensemble import ExtraTreesClassifier"
   ]
  },
  {
   "cell_type": "code",
   "execution_count": 13,
   "id": "ba7be2a2",
   "metadata": {},
   "outputs": [
    {
     "name": "stdout",
     "output_type": "stream",
     "text": [
      "[0.106 0.247 0.094 0.075 0.072 0.142 0.114 0.151]\n"
     ]
    }
   ],
   "source": [
    "# To use ExtraTreesClassifier to estimate the importance of features\n",
    "# write code here\n",
    "\n",
    "\n",
    "\n",
    "\n",
    "\n",
    "print(model.feature_importances_)  "
   ]
  },
  {
   "cell_type": "markdown",
   "id": "66618159",
   "metadata": {},
   "source": [
    "**Observations**\n",
    "- Importance score for each of the 8 attributes are listed where the larger the score the more important the attribute.\n",
    "- The important attributes are with indexes 1(glucose_concentration), 5(bmi), and 7(age)."
   ]
  },
  {
   "cell_type": "markdown",
   "id": "4464447f",
   "metadata": {},
   "source": [
    "<center>\n",
    "  <a href=\"MLSD-05-FeatureSelection-B.ipynb\" target=\"_self\">Feature Selection B</a> | <a href=\"./\">Content Page</a> | <a href=\"MLSD-06-MachineLearningErrors.ipynb\">Machine Learning Errors</a>\n",
    "</center>"
   ]
  }
 ],
 "metadata": {
  "kernelspec": {
   "display_name": "Python 3 (ipykernel)",
   "language": "python",
   "name": "python3"
  },
  "language_info": {
   "codemirror_mode": {
    "name": "ipython",
    "version": 3
   },
   "file_extension": ".py",
   "mimetype": "text/x-python",
   "name": "python",
   "nbconvert_exporter": "python",
   "pygments_lexer": "ipython3",
   "version": "3.9.7"
  }
 },
 "nbformat": 4,
 "nbformat_minor": 5
}
