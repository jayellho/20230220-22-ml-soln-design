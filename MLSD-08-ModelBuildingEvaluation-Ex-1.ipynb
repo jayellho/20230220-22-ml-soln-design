{
 "cells": [
  {
   "cell_type": "markdown",
   "id": "a25a1730",
   "metadata": {},
   "source": [
    "<center>\n",
    "  <a href=\"MLSD-08-ModelBuildingEvaluation-A.ipynb\" target=\"_self\">Machine Building Evaluation A</a> | <a href=\"./\">Content Page</a> | <a href=\"MLSD-08-ModelBuildingEvaluation-Ex-2.ipynb\">Model Building Evaluation Exercise 2</a>\n",
    "</center>"
   ]
  },
  {
   "cell_type": "markdown",
   "id": "ac816c2f",
   "metadata": {},
   "source": [
    "# <center>MODEL BUILDING EVALUATION: EXERCISE 1</center>\n",
    "\n",
    "<center><b>Copyright &copy 2023 by DR DANNY POO</b><br> e:dannypoo@nus.edu.sg<br> w:drdannypoo.com</center><br>"
   ]
  },
  {
   "attachments": {
    "image.png": {
     "image/png": "[encoded data removed]"
    }
   },
   "cell_type": "markdown",
   "id": "6027d4b9",
   "metadata": {},
   "source": [
    "# Muffin or Cupcake\n",
    "You are given a dataset on a recipe for Muffin or Cupcake ``./data/recipes_muffins_cupcakes.csv``.\n",
    "\n",
    "<b>Objective: To make prediction on whether a recipe is of Muffin or Cupcakes using Support Vector Machine (SVM) Classifier.</b>\n",
    "\n",
    "Proceed with the following steps to complete this project:\n",
    "1. Read in the dataset. Preview the dataset by printing the first 5 rows of dataframe.\n",
    "![image.png](attachment:image.png)\n",
    "2. Describe recipes with summary statistics. (Hint: use the describe() function on dataframe)\n",
    "3. Set up the X ('Flour', 'Sugar', and 'Milk') and y ('Type') variables based on the raw data.\n",
    "4. Split data into training set and test set; use 80:20 ratio.\n",
    "5. Fit and predict the y variables using a standard <b>Support Vector Machine Classifier</b>. (Hint: use svm.SVC from sklearn with linear kernel).\n",
    "6. Print the accuracy score of the training set and test set. \n",
    "7. Produce classification reports on training and test data.\n",
    "\n",
    "Skeletal code is provided here. Complete those indicated `write code here`."
   ]
  },
  {
   "cell_type": "markdown",
   "id": "0cd3a254",
   "metadata": {},
   "source": [
    "**Load Data**"
   ]
  },
  {
   "cell_type": "code",
   "execution_count": 1,
   "id": "b8d031b0",
   "metadata": {},
   "outputs": [],
   "source": [
    "# Import libraries\n",
    "# write code here\n",
    "\n",
    "\n",
    "\n",
    "\n",
    "\n"
   ]
  },
  {
   "cell_type": "code",
   "execution_count": 2,
   "id": "7e560e7c",
   "metadata": {},
   "outputs": [
    {
     "data": {
      "text/html": [
       "<div>\n",
       "<style scoped>\n",
       "    .dataframe tbody tr th:only-of-type {\n",
       "        vertical-align: middle;\n",
       "    }\n",
       "\n",
       "    .dataframe tbody tr th {\n",
       "        vertical-align: top;\n",
       "    }\n",
       "\n",
       "    .dataframe thead th {\n",
       "        text-align: right;\n",
       "    }\n",
       "</style>\n",
       "<table border=\"1\" class=\"dataframe\">\n",
       "  <thead>\n",
       "    <tr style=\"text-align: right;\">\n",
       "      <th></th>\n",
       "      <th>Type</th>\n",
       "      <th>Flour</th>\n",
       "      <th>Milk</th>\n",
       "      <th>Sugar</th>\n",
       "      <th>Butter</th>\n",
       "      <th>Egg</th>\n",
       "      <th>Baking Powder</th>\n",
       "      <th>Vanilla</th>\n",
       "      <th>Salt</th>\n",
       "    </tr>\n",
       "  </thead>\n",
       "  <tbody>\n",
       "    <tr>\n",
       "      <th>0</th>\n",
       "      <td>Muffin</td>\n",
       "      <td>55</td>\n",
       "      <td>28</td>\n",
       "      <td>3</td>\n",
       "      <td>7</td>\n",
       "      <td>5</td>\n",
       "      <td>2</td>\n",
       "      <td>0</td>\n",
       "      <td>0</td>\n",
       "    </tr>\n",
       "    <tr>\n",
       "      <th>1</th>\n",
       "      <td>Muffin</td>\n",
       "      <td>47</td>\n",
       "      <td>24</td>\n",
       "      <td>12</td>\n",
       "      <td>6</td>\n",
       "      <td>9</td>\n",
       "      <td>1</td>\n",
       "      <td>0</td>\n",
       "      <td>0</td>\n",
       "    </tr>\n",
       "    <tr>\n",
       "      <th>2</th>\n",
       "      <td>Muffin</td>\n",
       "      <td>47</td>\n",
       "      <td>23</td>\n",
       "      <td>18</td>\n",
       "      <td>6</td>\n",
       "      <td>4</td>\n",
       "      <td>1</td>\n",
       "      <td>0</td>\n",
       "      <td>0</td>\n",
       "    </tr>\n",
       "    <tr>\n",
       "      <th>3</th>\n",
       "      <td>Muffin</td>\n",
       "      <td>45</td>\n",
       "      <td>11</td>\n",
       "      <td>17</td>\n",
       "      <td>17</td>\n",
       "      <td>8</td>\n",
       "      <td>1</td>\n",
       "      <td>0</td>\n",
       "      <td>0</td>\n",
       "    </tr>\n",
       "    <tr>\n",
       "      <th>4</th>\n",
       "      <td>Muffin</td>\n",
       "      <td>50</td>\n",
       "      <td>25</td>\n",
       "      <td>12</td>\n",
       "      <td>6</td>\n",
       "      <td>5</td>\n",
       "      <td>2</td>\n",
       "      <td>1</td>\n",
       "      <td>0</td>\n",
       "    </tr>\n",
       "  </tbody>\n",
       "</table>\n",
       "</div>"
      ],
      "text/plain": [
       "     Type  Flour  Milk  Sugar  Butter  Egg  Baking Powder  Vanilla  Salt\n",
       "0  Muffin     55    28      3       7    5              2        0     0\n",
       "1  Muffin     47    24     12       6    9              1        0     0\n",
       "2  Muffin     47    23     18       6    4              1        0     0\n",
       "3  Muffin     45    11     17      17    8              1        0     0\n",
       "4  Muffin     50    25     12       6    5              2        1     0"
      ]
     },
     "execution_count": 2,
     "metadata": {},
     "output_type": "execute_result"
    }
   ],
   "source": [
    "# 1. Read in the dataset. Preview the dataset by printing the first 5 rows of dataframe.\n",
    "# write code here\n",
    "\n",
    "\n"
   ]
  },
  {
   "cell_type": "markdown",
   "id": "9d97e6e5",
   "metadata": {},
   "source": [
    "**Explore Data**    "
   ]
  },
  {
   "cell_type": "code",
   "execution_count": 3,
   "id": "ba7be2a2",
   "metadata": {},
   "outputs": [
    {
     "name": "stdout",
     "output_type": "stream",
     "text": [
      "           Flour       Milk      Sugar     Butter        Egg  Baking Powder  \\\n",
      "count  20.000000  20.000000  20.000000  20.000000  20.000000      20.000000   \n",
      "mean   43.900000  18.550000  17.100000  11.000000   7.200000       1.300000   \n",
      "std     7.018022   6.801509   7.538672   4.801316   3.019237       0.732695   \n",
      "min    34.000000   0.000000   3.000000   5.000000   4.000000       0.000000   \n",
      "25%    38.000000  15.000000  12.000000   7.000000   5.000000       1.000000   \n",
      "50%    43.500000  17.000000  17.000000  10.000000   6.000000       1.000000   \n",
      "75%    50.000000  24.250000  23.000000  14.250000   9.000000       2.000000   \n",
      "max    55.000000  28.000000  31.000000  20.000000  14.000000       3.000000   \n",
      "\n",
      "         Vanilla  Salt  \n",
      "count  20.000000  20.0  \n",
      "mean    0.500000   0.0  \n",
      "std     0.512989   0.0  \n",
      "min     0.000000   0.0  \n",
      "25%     0.000000   0.0  \n",
      "50%     0.500000   0.0  \n",
      "75%     1.000000   0.0  \n",
      "max     1.000000   0.0  \n"
     ]
    }
   ],
   "source": [
    "# 2. Describe recipes with summary statistics.\n",
    "# write code here\n",
    "\n"
   ]
  },
  {
   "cell_type": "markdown",
   "id": "63844113",
   "metadata": {},
   "source": [
    "**Split Data**    "
   ]
  },
  {
   "cell_type": "code",
   "execution_count": 4,
   "id": "eb123e8c",
   "metadata": {},
   "outputs": [],
   "source": [
    "# 3. Set up the X ('Flour', 'Sugar', and 'Milk') and y ('Type') variables based on the raw data.\n",
    "# write code here\n",
    "\n"
   ]
  },
  {
   "cell_type": "code",
   "execution_count": 5,
   "id": "c961e0ab",
   "metadata": {},
   "outputs": [
    {
     "name": "stdout",
     "output_type": "stream",
     "text": [
      "Shape of X_train =  (16, 3)\n",
      "Shape of X_test =  (4, 3)\n",
      "\n",
      "X_test\n",
      "     Flour  Sugar  Milk\n",
      "18     36     24    16\n",
      "7      47     10    26\n",
      "9      50     17    17\n",
      "2      47     18    23\n",
      "\n",
      "y\n",
      " 18    Cupcake\n",
      "7      Muffin\n",
      "9      Muffin\n",
      "2      Muffin\n",
      "Name: Type, dtype: object\n"
     ]
    }
   ],
   "source": [
    "# 4. Split data into training set and test set; use 80:20 ratio. \n",
    "# write code here\n",
    "\n",
    "\n",
    "\n",
    "# Print the shape of training and test dataset\n",
    "print(\"Shape of X_train = \", X_train.shape)\n",
    "print(\"Shape of X_test = \", X_test.shape)  \n",
    "\n",
    "# Print test dataset and y\n",
    "print(\"\\nX_test\\n\", X_test)  \n",
    "print(\"\\ny\\n\", y_test)"
   ]
  },
  {
   "cell_type": "markdown",
   "id": "a3ec49b8",
   "metadata": {},
   "source": [
    "**Build SVM Model**    "
   ]
  },
  {
   "cell_type": "code",
   "execution_count": 6,
   "id": "77b6cff2",
   "metadata": {},
   "outputs": [
    {
     "name": "stdout",
     "output_type": "stream",
     "text": [
      "['Cupcake' 'Muffin' 'Muffin' 'Muffin'] \n",
      "\n",
      "18    Cupcake\n",
      "7      Muffin\n",
      "9      Muffin\n",
      "2      Muffin\n",
      "Name: Type, dtype: object\n"
     ]
    }
   ],
   "source": [
    "# 5. Fit and predict the y variables using a standard Support Vector Machine Classifier.\n",
    "# write code here\n",
    "\n",
    "\n",
    "\n",
    "# Train the model using the training sets\n",
    "# write code here\n",
    "\n",
    "\n",
    "\n",
    "# Predict the response for test dataset.\n",
    "# write code here\n",
    "\n",
    "\n",
    "\n",
    "# Print predicted y\n",
    "print(y_pred, \"\\n\")\n",
    "print(y_test)"
   ]
  },
  {
   "cell_type": "markdown",
   "id": "c1b732ca",
   "metadata": {},
   "source": [
    "**Evaluate SVM Model**    "
   ]
  },
  {
   "cell_type": "code",
   "execution_count": 7,
   "id": "a7f81b3e",
   "metadata": {},
   "outputs": [
    {
     "name": "stdout",
     "output_type": "stream",
     "text": [
      "The training set accuracy: 100.00%\n",
      "The test set accuracy: 100.00%\n"
     ]
    }
   ],
   "source": [
    "# 6. Print the accuracy score of the training set and test set. \n",
    "# write code here\n",
    "\n",
    "\n",
    "\n",
    "\n",
    "print('The training set accuracy: {:.2%}'.format(train_score))\n",
    "print('The test set accuracy: {:.2%}'.format(test_score))  "
   ]
  },
  {
   "cell_type": "code",
   "execution_count": 8,
   "id": "b1f91904",
   "metadata": {},
   "outputs": [
    {
     "name": "stdout",
     "output_type": "stream",
     "text": [
      "\n",
      "Classification report on training data :\n",
      "              precision    recall  f1-score   support\n",
      "\n",
      "     Cupcake       1.00      1.00      1.00         9\n",
      "      Muffin       1.00      1.00      1.00         7\n",
      "\n",
      "    accuracy                           1.00        16\n",
      "   macro avg       1.00      1.00      1.00        16\n",
      "weighted avg       1.00      1.00      1.00        16\n",
      "\n",
      "\n",
      "Classification report on test data :\n",
      "              precision    recall  f1-score   support\n",
      "\n",
      "     Cupcake       1.00      1.00      1.00         1\n",
      "      Muffin       1.00      1.00      1.00         3\n",
      "\n",
      "    accuracy                           1.00         4\n",
      "   macro avg       1.00      1.00      1.00         4\n",
      "weighted avg       1.00      1.00      1.00         4\n",
      "\n"
     ]
    }
   ],
   "source": [
    "# 7. Produce classification reports on training and test data.\n",
    "# write code here\n",
    "\n",
    "\n",
    "\n",
    "print(\"\\nClassification report on training data :\")\n",
    "\n",
    "# Get classification report on training data\n",
    "# write code here\n",
    "\n",
    "\n",
    "\n",
    "print(\"\\nClassification report on test data :\")\n",
    "\n",
    "# Get classification report on test data\n",
    "# write code here\n",
    "\n"
   ]
  },
  {
   "cell_type": "markdown",
   "id": "4464447f",
   "metadata": {},
   "source": [
    "<center>\n",
    "  <a href=\"MLSD-08-ModelBuildingEvaluation-A.ipynb\" target=\"_self\">Machine Building Evaluation A</a> | <a href=\"./\">Content Page</a> | <a href=\"MLSD-08-ModelBuildingEvaluation-Ex-2.ipynb\">Model Building Evaluation Exercise 2</a>\n",
    "</center>"
   ]
  }
 ],
 "metadata": {
  "kernelspec": {
   "display_name": "Python 3 (ipykernel)",
   "language": "python",
   "name": "python3"
  },
  "language_info": {
   "codemirror_mode": {
    "name": "ipython",
    "version": 3
   },
   "file_extension": ".py",
   "mimetype": "text/x-python",
   "name": "python",
   "nbconvert_exporter": "python",
   "pygments_lexer": "ipython3",
   "version": "3.9.7"
  }
 },
 "nbformat": 4,
 "nbformat_minor": 5
}
