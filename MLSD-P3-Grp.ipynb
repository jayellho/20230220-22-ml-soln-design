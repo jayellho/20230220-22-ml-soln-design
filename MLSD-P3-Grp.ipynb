{
 "cells": [
  {
   "cell_type": "markdown",
   "id": "59b1fd8d",
   "metadata": {},
   "source": [
    "# <center>PROJECT 03: GROUP</center>\n",
    "\n",
    "<center><b>Copyright &copy 2023 by DR DANNY POO</b><br> e:dannypoo@nus.edu.sg<br> w:drdannypoo.com</center><br>"
   ]
  },
  {
   "attachments": {
    "image.png": {
     "image/png": "[encoded data removed]"
    }
   },
   "cell_type": "markdown",
   "id": "6027d4b9",
   "metadata": {},
   "source": [
    "You are given a dataset on fraud detection `./data/FraudDetection.csv`.\n",
    "\n",
    "<b>Objective: To make prediction on fraud using standard Decision Tree Classifier.</b>\n",
    "\n",
    "Proceed with the following steps to complete this project:\n",
    "1. Read in the dataset and drop those features that are not useful. Preview the dataset by printing the first 5 rows of dataframe.\n",
    "![image.png](attachment:image.png)\n",
    "2. `type` is categorical. Change categorical \"type\" variable to numerical values.\n",
    "3. The target variable is the `isFraud` variable, other variables are features. Set up the X and y variables based on the raw data.\n",
    "4. Split data into training set and test set; use 70:30 ratio.\n",
    "5. Fit and predict the y variables using a standard <b>Decision Tree Classifier</b> from sklearn and print the accuracy score of the training set and test set. Produce classification reports on training and test data.\n",
    "\n",
    "Skeletal code is provided here. Complete those indicated `write code here`."
   ]
  },
  {
   "cell_type": "markdown",
   "id": "0cd3a254",
   "metadata": {},
   "source": [
    "**Load Data**"
   ]
  },
  {
   "cell_type": "code",
   "execution_count": 1,
   "id": "b8d031b0",
   "metadata": {},
   "outputs": [],
   "source": [
    "# Import libraries\n",
    "# write code here\n",
    "\n",
    "import numpy as np\n",
    "import pandas as pd\n",
    "import seaborn as sns\n",
    "import matplotlib.pyplot as plt\n",
    "\n",
    "from sklearn.model_selection import train_test_split"
   ]
  },
  {
   "cell_type": "code",
   "execution_count": 4,
   "id": "ecac61c1",
   "metadata": {},
   "outputs": [
    {
     "data": {
      "text/html": [
       "<div>\n",
       "<style scoped>\n",
       "    .dataframe tbody tr th:only-of-type {\n",
       "        vertical-align: middle;\n",
       "    }\n",
       "\n",
       "    .dataframe tbody tr th {\n",
       "        vertical-align: top;\n",
       "    }\n",
       "\n",
       "    .dataframe thead th {\n",
       "        text-align: right;\n",
       "    }\n",
       "</style>\n",
       "<table border=\"1\" class=\"dataframe\">\n",
       "  <thead>\n",
       "    <tr style=\"text-align: right;\">\n",
       "      <th></th>\n",
       "      <th>type</th>\n",
       "      <th>amount</th>\n",
       "      <th>nameOrig</th>\n",
       "      <th>oldBalanceOrig</th>\n",
       "      <th>newBalanceOrig</th>\n",
       "      <th>nameDest</th>\n",
       "      <th>oldBalanceDest</th>\n",
       "      <th>newBalanceDest</th>\n",
       "      <th>isFraud</th>\n",
       "      <th>isFlaggedFraud</th>\n",
       "    </tr>\n",
       "  </thead>\n",
       "  <tbody>\n",
       "    <tr>\n",
       "      <th>0</th>\n",
       "      <td>CASH_OUT</td>\n",
       "      <td>209531.80</td>\n",
       "      <td>C968945627</td>\n",
       "      <td>0.00</td>\n",
       "      <td>0.00</td>\n",
       "      <td>C1750956965</td>\n",
       "      <td>562032.13</td>\n",
       "      <td>2884719.28</td>\n",
       "      <td>0</td>\n",
       "      <td>0</td>\n",
       "    </tr>\n",
       "    <tr>\n",
       "      <th>1</th>\n",
       "      <td>TRANSFER</td>\n",
       "      <td>190771.10</td>\n",
       "      <td>C1826227285</td>\n",
       "      <td>0.00</td>\n",
       "      <td>0.00</td>\n",
       "      <td>C1531333864</td>\n",
       "      <td>561728.05</td>\n",
       "      <td>1754717.64</td>\n",
       "      <td>0</td>\n",
       "      <td>0</td>\n",
       "    </tr>\n",
       "    <tr>\n",
       "      <th>2</th>\n",
       "      <td>CASH_OUT</td>\n",
       "      <td>43442.15</td>\n",
       "      <td>C1787120799</td>\n",
       "      <td>41293.00</td>\n",
       "      <td>0.00</td>\n",
       "      <td>C1039302738</td>\n",
       "      <td>299332.35</td>\n",
       "      <td>343940.37</td>\n",
       "      <td>0</td>\n",
       "      <td>0</td>\n",
       "    </tr>\n",
       "    <tr>\n",
       "      <th>3</th>\n",
       "      <td>CASH_OUT</td>\n",
       "      <td>57864.51</td>\n",
       "      <td>C1704809688</td>\n",
       "      <td>66729.14</td>\n",
       "      <td>8864.63</td>\n",
       "      <td>C1018394275</td>\n",
       "      <td>0.00</td>\n",
       "      <td>57864.51</td>\n",
       "      <td>0</td>\n",
       "      <td>0</td>\n",
       "    </tr>\n",
       "    <tr>\n",
       "      <th>4</th>\n",
       "      <td>CASH_OUT</td>\n",
       "      <td>419023.36</td>\n",
       "      <td>C971952714</td>\n",
       "      <td>0.00</td>\n",
       "      <td>0.00</td>\n",
       "      <td>C176203926</td>\n",
       "      <td>913494.57</td>\n",
       "      <td>1495196.84</td>\n",
       "      <td>0</td>\n",
       "      <td>0</td>\n",
       "    </tr>\n",
       "  </tbody>\n",
       "</table>\n",
       "</div>"
      ],
      "text/plain": [
       "       type     amount     nameOrig  oldBalanceOrig  newBalanceOrig  \\\n",
       "0  CASH_OUT  209531.80   C968945627            0.00            0.00   \n",
       "1  TRANSFER  190771.10  C1826227285            0.00            0.00   \n",
       "2  CASH_OUT   43442.15  C1787120799        41293.00            0.00   \n",
       "3  CASH_OUT   57864.51  C1704809688        66729.14         8864.63   \n",
       "4  CASH_OUT  419023.36   C971952714            0.00            0.00   \n",
       "\n",
       "      nameDest  oldBalanceDest  newBalanceDest  isFraud  isFlaggedFraud  \n",
       "0  C1750956965       562032.13      2884719.28        0               0  \n",
       "1  C1531333864       561728.05      1754717.64        0               0  \n",
       "2  C1039302738       299332.35       343940.37        0               0  \n",
       "3  C1018394275            0.00        57864.51        0               0  \n",
       "4   C176203926       913494.57      1495196.84        0               0  "
      ]
     },
     "execution_count": 4,
     "metadata": {},
     "output_type": "execute_result"
    }
   ],
   "source": [
    "# 1. Read in the dataset and drop those features that are not useful. \n",
    "# Preview the dataset by printing the first 5 rows of dataframe.\n",
    "# write code here\n",
    "df = pd.read_csv('./data/FraudDetection.csv')\n",
    "df.head()\n",
    "\n",
    "\n"
   ]
  },
  {
   "cell_type": "markdown",
   "id": "9d97e6e5",
   "metadata": {},
   "source": [
    "**Process Data**    "
   ]
  },
  {
   "cell_type": "code",
   "execution_count": 14,
   "id": "ba7be2a2",
   "metadata": {},
   "outputs": [],
   "source": [
    "# 2. Change categorical \"type\" variable to numerical values.\n",
    "# write code here\n",
    "\n",
    "df['type'] = np.where(df['type'] == 'TRANSFER', 1,0)\n",
    "\n"
   ]
  },
  {
   "cell_type": "markdown",
   "id": "63844113",
   "metadata": {},
   "source": [
    "**Split Data**    "
   ]
  },
  {
   "cell_type": "code",
   "execution_count": 30,
   "id": "eb123e8c",
   "metadata": {},
   "outputs": [],
   "source": [
    "# 3. Set up the X and y variables based on the raw data.\n",
    "# write code here\n",
    "# X = df.loc[:,df.columns != 'isFraud'].values\n",
    "X = df[['type','amount','oldBalanceOrig','newBalanceOrig','oldBalanceDest', 'newBalanceDest']]\n",
    "y = df['isFraud']\n"
   ]
  },
  {
   "cell_type": "code",
   "execution_count": 31,
   "id": "f1424674",
   "metadata": {},
   "outputs": [
    {
     "name": "stdout",
     "output_type": "stream",
     "text": [
      "Shape of X_train =  (16249, 6)\n",
      "Shape of X_test =  (6964, 6)\n",
      "\n",
      "X_test\n",
      "        type     amount  oldBalanceOrig  newBalanceOrig  oldBalanceDest  \\\n",
      "156       1  473387.81       473387.81             0.0            0.00   \n",
      "17631     0   32872.00        32872.00             0.0            0.00   \n",
      "4534      1   26000.18            0.00             0.0       152829.85   \n",
      "22106     1  912117.82       912117.82             0.0            0.00   \n",
      "22836     0   34822.83            0.00             0.0       184449.19   \n",
      "...     ...        ...             ...             ...             ...   \n",
      "14012     0   33810.17            0.00             0.0        63658.30   \n",
      "15702     0  105979.34            0.00             0.0       435962.90   \n",
      "16919     0  248043.99       248043.99             0.0            0.00   \n",
      "9258      0   25762.08            0.00             0.0       172255.18   \n",
      "16574     0  978362.97       978362.97             0.0       123481.51   \n",
      "\n",
      "       newBalanceDest  \n",
      "156              0.00  \n",
      "17631        32872.00  \n",
      "4534        252670.01  \n",
      "22106            0.00  \n",
      "22836       219272.02  \n",
      "...               ...  \n",
      "14012        97468.47  \n",
      "15702        46820.71  \n",
      "16919       248043.99  \n",
      "9258             0.00  \n",
      "16574      1101844.48  \n",
      "\n",
      "[6964 rows x 6 columns]\n",
      "\n",
      "y\n",
      " 156      1\n",
      "17631    1\n",
      "4534     0\n",
      "22106    1\n",
      "22836    0\n",
      "        ..\n",
      "14012    0\n",
      "15702    0\n",
      "16919    1\n",
      "9258     0\n",
      "16574    1\n",
      "Name: isFraud, Length: 6964, dtype: int64\n"
     ]
    }
   ],
   "source": [
    "# 4. Split data into training set and test set; use 70:30 ratio.\n",
    "# write code here\n",
    "\n",
    "X_train, X_test, y_train, y_test = train_test_split(X, y, test_size=0.30, random_state = 0)\n",
    "# Print the shape of training and test dataset\n",
    "print(\"Shape of X_train = \", X_train.shape)\n",
    "print(\"Shape of X_test = \", X_test.shape)    \n",
    "\n",
    "# Print test dataset and y\n",
    "print()\n",
    "print(\"X_test\\n\", X_test)  \n",
    "print(\"\\ny\\n\", y_test)"
   ]
  },
  {
   "cell_type": "markdown",
   "id": "8b8ec2a9",
   "metadata": {},
   "source": [
    "## Use Standard Decision Tree Classifier Model"
   ]
  },
  {
   "cell_type": "markdown",
   "id": "a3ec49b8",
   "metadata": {},
   "source": [
    "**Build Standard Decision Tree Classifier Model**    "
   ]
  },
  {
   "cell_type": "code",
   "execution_count": 32,
   "id": "77b6cff2",
   "metadata": {},
   "outputs": [],
   "source": [
    "# 5. Fit and predict the y variables using a standard Decision Tree Classifier\n",
    "\n",
    "# Import DecisionTreeClassifier\n",
    "# write code here\n",
    "\n",
    "from sklearn import tree\n",
    "\n",
    "\n",
    "# Create a Decision Tree Classifier\n",
    "# write code here\n",
    "\n",
    "clf = tree.DecisionTreeClassifier()\n",
    "\n",
    "\n",
    "# Train the model using the training sets\n",
    "# write code here\n",
    "\n",
    "clf = clf.fit(X_train,y_train)\n"
   ]
  },
  {
   "cell_type": "markdown",
   "id": "c1b732ca",
   "metadata": {},
   "source": [
    "**Evaluate Standard Decision Tree Classifier Model**    "
   ]
  },
  {
   "cell_type": "code",
   "execution_count": 34,
   "id": "ac370eac",
   "metadata": {},
   "outputs": [
    {
     "name": "stdout",
     "output_type": "stream",
     "text": [
      "The training set accuracy: 100.00%\n",
      "The test set accuracy: 98.79%\n"
     ]
    }
   ],
   "source": [
    "# 5.Print the accuracy score of the training set and test set.\n",
    "# write code here\n",
    "\n",
    "from sklearn.metrics import accuracy_score\n",
    "\n",
    "X_train_predicted = clf.predict(X_train)\n",
    "X_test_predicted = clf.predict(X_test)\n",
    "\n",
    "train_score = accuracy_score(y_train, X_train_predicted)\n",
    "test_score = accuracy_score(y_test, X_test_predicted)\n",
    "\n",
    "print('The training set accuracy: {:.2%}'.format(train_score))\n",
    "print('The test set accuracy: {:.2%}'.format(test_score))  "
   ]
  },
  {
   "cell_type": "code",
   "execution_count": 36,
   "id": "200fffce",
   "metadata": {},
   "outputs": [
    {
     "name": "stdout",
     "output_type": "stream",
     "text": [
      "\n",
      "Classification report on training data :\n",
      "              precision    recall  f1-score   support\n",
      "\n",
      "           0       1.00      1.00      1.00     10548\n",
      "           1       1.00      1.00      1.00      5701\n",
      "\n",
      "    accuracy                           1.00     16249\n",
      "   macro avg       1.00      1.00      1.00     16249\n",
      "weighted avg       1.00      1.00      1.00     16249\n",
      "\n",
      "\n",
      "Classification report on test data :\n",
      "              precision    recall  f1-score   support\n",
      "\n",
      "           0       0.99      0.99      0.99      4452\n",
      "           1       0.98      0.99      0.98      2512\n",
      "\n",
      "    accuracy                           0.99      6964\n",
      "   macro avg       0.99      0.99      0.99      6964\n",
      "weighted avg       0.99      0.99      0.99      6964\n",
      "\n"
     ]
    }
   ],
   "source": [
    "# 5. Produce classification reports on training and test data.\n",
    "# write code here\n",
    "from sklearn.metrics import classification_report\n",
    "\n",
    "print(\"\\nClassification report on training data :\")\n",
    "\n",
    "# Get classification report on training data\n",
    "# write code here\n",
    "\n",
    "train_report = classification_report(y_train, X_train_predicted)\n",
    "print(train_report)\n",
    "print(\"\\nClassification report on test data :\")\n",
    "\n",
    "# Get classification report on test data\n",
    "# write code here\n",
    "\n",
    "test_report = classification_report(y_test, X_test_predicted)\n",
    "print(test_report)"
   ]
  }
 ],
 "metadata": {
  "kernelspec": {
   "display_name": "Python 3 (ipykernel)",
   "language": "python",
   "name": "python3"
  },
  "language_info": {
   "codemirror_mode": {
    "name": "ipython",
    "version": 3
   },
   "file_extension": ".py",
   "mimetype": "text/x-python",
   "name": "python",
   "nbconvert_exporter": "python",
   "pygments_lexer": "ipython3",
   "version": "3.9.13"
  }
 },
 "nbformat": 4,
 "nbformat_minor": 5
}
