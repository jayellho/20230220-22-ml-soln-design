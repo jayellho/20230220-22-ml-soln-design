{
 "cells": [
  {
   "cell_type": "markdown",
   "metadata": {},
   "source": [
    "# <center>PROJECT 01: INDIVIDUAL</center>\n",
    "\n",
    "<center><b>Copyright &copy 2023 by DR DANNY POO</b><br> e:dannypoo@nus.edu.sg<br> w:drdannypoo.com</center><br>"
   ]
  },
  {
   "cell_type": "markdown",
   "metadata": {},
   "source": [
    "# APPOINTMENTS\n",
    "No-shows, or patients who miss their scheduled appointments are common and costly to healthcare institutions. Medical resources are not efficiently utilized, and delays are caused for others in need of medical resources, which may increase possibility for adverse health outcomes.\n",
    "\n",
    "A No-show data analysis can help healthcare institutions understand what attributes are associated with no-show situation and predict whether a patient will break the appointment to prevent no-show in different ways (e.g. reminder phone calls, double-book an appointment slot, schedule at a different time for certain patient).\n",
    "\n",
    "\n",
    "**Dataset**<br>\n",
    "This dataset (`./data/appointments/appointments.csv`) in csv format collects information about medical appointments from public healthcare institutions in Brazil and focuses on the question of whether patients show up for their appointments. Several characteristics are represented in the columns and these characteristics about a certain patient and his/her appointment are included in each row.\n",
    "\n",
    "Here is the description of dataset features:\n",
    "\n",
    "1.\tPatientId<br>\n",
    "Unique identification of a patient.\n",
    "2.\tAppointmentID<br>\n",
    "Unique identification of each appointment. A patient may have multiple appointments.\n",
    "3.\tGender<br>\n",
    "M - male\n",
    "F  - female\n",
    "4.\tScheduleDay<br>\n",
    "The time when patient called to schedule an appointment.\n",
    "5.\tAppointmentDay<br>\n",
    "The day of the actual appointment, when patient should visit the doctor.\n",
    "6.\tAge<br>\n",
    "How old is the patient?\n",
    "7.\tNeighbourhood<br>\n",
    "In which city the appointment takes place.\n",
    "8.\tFamilyAllowance<br>\n",
    "The Government of Brazil offer financial aid to very poor family.\n",
    "0 - not receive financial aid \n",
    "1 - receive financial aid \n",
    "9.\tHypertension<br>\n",
    "0 - not suffer from hypertension\n",
    "1 - suffer from hypertension\n",
    "10.\tDiabetes<br>\n",
    "0 - not suffer from diabetes\n",
    "1 - suffer from diabetes\n",
    "11.\tAlcoholism<br>\n",
    "0 - not suffer from alcoholism\n",
    "1 - suffer from alcoholism\n",
    "12.\tHandicap<br>\n",
    "0 - not handicapped\n",
    "1 - handicapped\n",
    "13.\tSMS-received<br>\n",
    "Healthcare institutions will send one or more messages to patients to inform them of their appointment.\n",
    "1 - at least one message received by the patient.\n",
    "0 - no message received by the client\n",
    "14.\tNo-show<br>\n",
    "Yes - patient broke the appointment\n",
    " No - patient kept the appointment \n",
    "\n",
    "**What Are You Required To Do?**<br>\n",
    "The quality of data is critical to the success and value of the analysis. Data almost certainly need to be cleaned and transformed before it can be ready for analysis:\n",
    "- Rename columns\n",
    "- Remove duplicates\n",
    "- Remove rows with missing values\n",
    "- Data type transformation\n",
    "- Compute new features\n",
    "- Remove erroneous data\n",
    "- Outlier detection\n",
    "- Bin Data into Buckets\n",
    "\n",
    "Skeletal code is provided here. Complete those indicated `Write code here`."
   ]
  },
  {
   "cell_type": "markdown",
   "metadata": {},
   "source": [
    "# Read in and Explore Data Set"
   ]
  },
  {
   "cell_type": "code",
   "execution_count": 306,
   "metadata": {},
   "outputs": [],
   "source": [
    "# Import libraries\n",
    "# Write code here\n",
    "\n",
    "import numpy as np\n",
    "import pandas as pd\n",
    "import matplotlib.pyplot as plt\n",
    "import seaborn as sns\n",
    "\n",
    "\n",
    "\n",
    "sns.set(color_codes=True)"
   ]
  },
  {
   "cell_type": "code",
   "execution_count": 307,
   "metadata": {},
   "outputs": [
    {
     "data": {
      "text/html": [
       "<div>\n",
       "<style scoped>\n",
       "    .dataframe tbody tr th:only-of-type {\n",
       "        vertical-align: middle;\n",
       "    }\n",
       "\n",
       "    .dataframe tbody tr th {\n",
       "        vertical-align: top;\n",
       "    }\n",
       "\n",
       "    .dataframe thead th {\n",
       "        text-align: right;\n",
       "    }\n",
       "</style>\n",
       "<table border=\"1\" class=\"dataframe\">\n",
       "  <thead>\n",
       "    <tr style=\"text-align: right;\">\n",
       "      <th></th>\n",
       "      <th>PatientId</th>\n",
       "      <th>AppointmentID</th>\n",
       "      <th>Gender</th>\n",
       "      <th>ScheduleDay</th>\n",
       "      <th>AppointmentDay</th>\n",
       "      <th>Age</th>\n",
       "      <th>Neighbourhood</th>\n",
       "      <th>FamilyAllowance</th>\n",
       "      <th>Hypertension</th>\n",
       "      <th>Diabetes</th>\n",
       "      <th>Alcoholism</th>\n",
       "      <th>Handicap</th>\n",
       "      <th>SMS_received</th>\n",
       "      <th>No-show</th>\n",
       "    </tr>\n",
       "  </thead>\n",
       "  <tbody>\n",
       "    <tr>\n",
       "      <th>0</th>\n",
       "      <td>29872499824296</td>\n",
       "      <td>5642903</td>\n",
       "      <td>F</td>\n",
       "      <td>2016-04-29T18:38:08Z</td>\n",
       "      <td>2016-04-29T00:00:00Z</td>\n",
       "      <td>62</td>\n",
       "      <td>JARDIM DA PENHA</td>\n",
       "      <td>0.0</td>\n",
       "      <td>1.0</td>\n",
       "      <td>0.0</td>\n",
       "      <td>0.0</td>\n",
       "      <td>0.0</td>\n",
       "      <td>0</td>\n",
       "      <td>No</td>\n",
       "    </tr>\n",
       "    <tr>\n",
       "      <th>1</th>\n",
       "      <td>558997776694438</td>\n",
       "      <td>5642503</td>\n",
       "      <td>M</td>\n",
       "      <td>2016-04-29T16:08:27Z</td>\n",
       "      <td>2016-04-29T00:00:00Z</td>\n",
       "      <td>56</td>\n",
       "      <td>JARDIM DA PENHA</td>\n",
       "      <td>0.0</td>\n",
       "      <td>0.0</td>\n",
       "      <td>0.0</td>\n",
       "      <td>0.0</td>\n",
       "      <td>0.0</td>\n",
       "      <td>0</td>\n",
       "      <td>No</td>\n",
       "    </tr>\n",
       "    <tr>\n",
       "      <th>2</th>\n",
       "      <td>2978363769149</td>\n",
       "      <td>5671456</td>\n",
       "      <td>F</td>\n",
       "      <td>2016-05-06T17:10:31Z</td>\n",
       "      <td>2016-05-12T00:00:00Z</td>\n",
       "      <td>21</td>\n",
       "      <td>JARDIM DA PENHA</td>\n",
       "      <td>0.0</td>\n",
       "      <td>0.0</td>\n",
       "      <td>0.0</td>\n",
       "      <td>0.0</td>\n",
       "      <td>0.0</td>\n",
       "      <td>1</td>\n",
       "      <td>No</td>\n",
       "    </tr>\n",
       "    <tr>\n",
       "      <th>3</th>\n",
       "      <td>6326444238163</td>\n",
       "      <td>5662931</td>\n",
       "      <td>F</td>\n",
       "      <td>2016-05-05T09:14:10Z</td>\n",
       "      <td>2016-05-05T00:00:00Z</td>\n",
       "      <td>55</td>\n",
       "      <td>JARDIM DA PENHA</td>\n",
       "      <td>0.0</td>\n",
       "      <td>1.0</td>\n",
       "      <td>0.0</td>\n",
       "      <td>0.0</td>\n",
       "      <td>0.0</td>\n",
       "      <td>0</td>\n",
       "      <td>No</td>\n",
       "    </tr>\n",
       "    <tr>\n",
       "      <th>4</th>\n",
       "      <td>55583448227198</td>\n",
       "      <td>5608066</td>\n",
       "      <td>M</td>\n",
       "      <td>2016-04-20T13:12:17Z</td>\n",
       "      <td>2016-05-12T00:00:00Z</td>\n",
       "      <td>NaN</td>\n",
       "      <td>JARDIM DA PENHA</td>\n",
       "      <td>0.0</td>\n",
       "      <td>1.0</td>\n",
       "      <td>0.0</td>\n",
       "      <td>0.0</td>\n",
       "      <td>0.0</td>\n",
       "      <td>0</td>\n",
       "      <td>No</td>\n",
       "    </tr>\n",
       "  </tbody>\n",
       "</table>\n",
       "</div>"
      ],
      "text/plain": [
       "         PatientId  AppointmentID Gender           ScheduleDay  \\\n",
       "0   29872499824296        5642903      F  2016-04-29T18:38:08Z   \n",
       "1  558997776694438        5642503      M  2016-04-29T16:08:27Z   \n",
       "2    2978363769149        5671456      F  2016-05-06T17:10:31Z   \n",
       "3    6326444238163        5662931      F  2016-05-05T09:14:10Z   \n",
       "4   55583448227198        5608066      M  2016-04-20T13:12:17Z   \n",
       "\n",
       "         AppointmentDay  Age    Neighbourhood  FamilyAllowance  Hypertension  \\\n",
       "0  2016-04-29T00:00:00Z   62  JARDIM DA PENHA              0.0           1.0   \n",
       "1  2016-04-29T00:00:00Z   56  JARDIM DA PENHA              0.0           0.0   \n",
       "2  2016-05-12T00:00:00Z   21  JARDIM DA PENHA              0.0           0.0   \n",
       "3  2016-05-05T00:00:00Z   55  JARDIM DA PENHA              0.0           1.0   \n",
       "4  2016-05-12T00:00:00Z  NaN  JARDIM DA PENHA              0.0           1.0   \n",
       "\n",
       "   Diabetes  Alcoholism  Handicap  SMS_received No-show  \n",
       "0       0.0         0.0       0.0             0      No  \n",
       "1       0.0         0.0       0.0             0      No  \n",
       "2       0.0         0.0       0.0             1      No  \n",
       "3       0.0         0.0       0.0             0      No  \n",
       "4       0.0         0.0       0.0             0      No  "
      ]
     },
     "execution_count": 307,
     "metadata": {},
     "output_type": "execute_result"
    }
   ],
   "source": [
    "# Load data from .csv file\n",
    "# Display head (using head() function) on dataFrame\n",
    "# Write code here\n",
    "df = pd.read_csv('./data/appointments/appointments.csv')\n",
    "df.head()\n",
    "\n"
   ]
  },
  {
   "cell_type": "code",
   "execution_count": 308,
   "metadata": {},
   "outputs": [
    {
     "name": "stdout",
     "output_type": "stream",
     "text": [
      "<class 'pandas.core.frame.DataFrame'>\n",
      "RangeIndex: 6573 entries, 0 to 6572\n",
      "Data columns (total 14 columns):\n",
      " #   Column           Non-Null Count  Dtype  \n",
      "---  ------           --------------  -----  \n",
      " 0   PatientId        6573 non-null   int64  \n",
      " 1   AppointmentID    6573 non-null   int64  \n",
      " 2   Gender           6573 non-null   object \n",
      " 3   ScheduleDay      6573 non-null   object \n",
      " 4   AppointmentDay   6573 non-null   object \n",
      " 5   Age              6566 non-null   object \n",
      " 6   Neighbourhood    6573 non-null   object \n",
      " 7   FamilyAllowance  6572 non-null   float64\n",
      " 8   Hypertension     6572 non-null   float64\n",
      " 9   Diabetes         6569 non-null   float64\n",
      " 10  Alcoholism       6572 non-null   float64\n",
      " 11  Handicap         6572 non-null   float64\n",
      " 12  SMS_received     6573 non-null   int64  \n",
      " 13  No-show          6573 non-null   object \n",
      "dtypes: float64(5), int64(3), object(6)\n",
      "memory usage: 719.0+ KB\n"
     ]
    }
   ],
   "source": [
    "# Examine data format\n",
    "# Write code here\n",
    "\n",
    "df.info()"
   ]
  },
  {
   "cell_type": "code",
   "execution_count": 309,
   "metadata": {},
   "outputs": [
    {
     "name": "stdout",
     "output_type": "stream",
     "text": [
      "Gender\n",
      " ['F' 'M']\n",
      "Age\n",
      " ['62' '56' '21' '55' nan '77' '57' '76' '60' '38' '54' '20' '85' '78' '28'\n",
      " '46' '1' '88' '31' '4' '58' '25' '84' '52' '65' '66' '51' '59' '22' '?'\n",
      " '41' '83' '74' '27' '24' '18' '6' '43' '19' '0' '67' '17' '61' '44' '37'\n",
      " '63' '89' '70' '36' '11' '73' '64' '53' '10' '75' '9' '48' '50' '2' '39'\n",
      " '80' '82' '86' '33' '93' '68' '15' '16' '13' '30' '35' '49' '29' '47'\n",
      " '23' '40' '79' '14' '34' '71' '81' '69' '42' '96' '3' '45' '26' '5' '72'\n",
      " '8' '7' '12' '91' '95' '92' '32' '87' '  ' '90' '94']\n",
      "Neighbourhood\n",
      " ['JARDIM DA PENHA' 'MARIA ORTIZ' 'CENTRO' 'BENTO FERREIRA' 'JUCUTUQUARA'\n",
      " 'MATA DA PRAIA' 'PONTAL DE CAMBURI' 'JABOUR' 'JARDIM CAMBURI' 'CONQUISTA'\n",
      " 'SANTA MARTHA' 'SANTOS DUMONT' 'TABUAZEIRO' 'DE LOURDES' 'PARQUE MOSCOSO'\n",
      " 'SANTA CLARA' 'DO MOSCOSO' 'VILA RUBIM' 'FONTE GRANDE' 'DO QUADRO'\n",
      " 'GURIGICA' 'ESTRELINHA' 'BOA VISTA' 'SOLON BORGES' 'SANTA HELENA'\n",
      " 'JESUS DE NAZARETH' 'COMDUSA' 'NOVA PALESTINA' 'BONFIM' 'GOIABEIRAS'\n",
      " 'MONTE BELO' 'ILHA DE SANTA MARIA' 'ARIOVALDO FAVALESSA' 'SANTA TEREZA'\n",
      " 'PIEDADE' 'HORTO' 'DA PENHA' 'FRADINHOS' 'ILHA DAS CAIEIRAS'\n",
      " 'SANTOS REIS' 'CRUZAMENTO' 'DO CABRAL' 'ANDORINHAS' 'BELA VISTA'\n",
      " 'ILHA DO BOI' 'PRAIA DO CANTO' 'BARRO VERMELHO' 'MORADA DE CAMBURI'\n",
      " 'AEROPORTO' 'NAZARETH']\n",
      "FamilyAllowance\n",
      " [ 0. nan  1.]\n",
      "Hypertension\n",
      " [ 1.  0. nan]\n",
      "Diabetes\n",
      " [ 0.  1. nan]\n",
      "Alcoholism\n",
      " [ 0.  1. nan]\n",
      "Handicap\n",
      " [ 0.  2. nan  1.]\n",
      "SMS_received\n",
      " [0 1]\n",
      "No-show\n",
      " ['No' 'Yes']\n"
     ]
    }
   ],
   "source": [
    "# Print some variables\n",
    "print('Gender\\n', df.Gender.unique())\n",
    "print('Age\\n', df.Age.unique())\n",
    "print('Neighbourhood\\n', df.Neighbourhood.unique())\n",
    "print('FamilyAllowance\\n', df.FamilyAllowance.unique())\n",
    "print('Hypertension\\n', df.Hypertension.unique())\n",
    "print('Diabetes\\n', df.Diabetes.unique())\n",
    "print('Alcoholism\\n', df.Alcoholism.unique())\n",
    "print('Handicap\\n', df.Handicap.unique())\n",
    "print('SMS_received\\n', df.SMS_received.unique())\n",
    "print('No-show\\n', df['No-show'].unique())"
   ]
  },
  {
   "cell_type": "code",
   "execution_count": 310,
   "metadata": {},
   "outputs": [
    {
     "data": {
      "text/plain": [
       "PatientId          0\n",
       "AppointmentID      0\n",
       "Gender             0\n",
       "ScheduleDay        0\n",
       "AppointmentDay     0\n",
       "Age                7\n",
       "Neighbourhood      0\n",
       "FamilyAllowance    1\n",
       "Hypertension       1\n",
       "Diabetes           4\n",
       "Alcoholism         1\n",
       "Handicap           1\n",
       "SMS_received       0\n",
       "No-show            0\n",
       "dtype: int64"
      ]
     },
     "execution_count": 310,
     "metadata": {},
     "output_type": "execute_result"
    }
   ],
   "source": [
    "# Missing value count\n",
    "# Write code here\n",
    "\n",
    "df.isnull().sum()"
   ]
  },
  {
   "cell_type": "code",
   "execution_count": 311,
   "metadata": {
    "scrolled": true
   },
   "outputs": [
    {
     "data": {
      "text/plain": [
       "(6573, 14)"
      ]
     },
     "execution_count": 311,
     "metadata": {},
     "output_type": "execute_result"
    }
   ],
   "source": [
    "# Number of rows and columns\n",
    "# Write code here\n",
    "\n",
    "df.shape"
   ]
  },
  {
   "cell_type": "markdown",
   "metadata": {},
   "source": [
    "**Observations**\n",
    "- 6573 rows\n",
    "- 14 columns"
   ]
  },
  {
   "cell_type": "code",
   "execution_count": 312,
   "metadata": {},
   "outputs": [
    {
     "data": {
      "text/plain": [
       "7"
      ]
     },
     "execution_count": 312,
     "metadata": {},
     "output_type": "execute_result"
    }
   ],
   "source": [
    "# Count duplicated data on AppointmentID variable\n",
    "# Write code here\n",
    "\n",
    "df['AppointmentID'].duplicated().sum()"
   ]
  },
  {
   "cell_type": "code",
   "execution_count": 313,
   "metadata": {},
   "outputs": [
    {
     "data": {
      "text/plain": [
       "Int64Index([165, 3643, 3791, 3912], dtype='int64')"
      ]
     },
     "execution_count": 313,
     "metadata": {},
     "output_type": "execute_result"
    }
   ],
   "source": [
    "# Duplicated entries index\n",
    "isDuplicated = df.duplicated()\n",
    "isDuplicated[isDuplicated.values==1].index"
   ]
  },
  {
   "cell_type": "markdown",
   "metadata": {},
   "source": [
    "# Rename Columns"
   ]
  },
  {
   "cell_type": "code",
   "execution_count": 314,
   "metadata": {
    "scrolled": true
   },
   "outputs": [
    {
     "data": {
      "text/html": [
       "<div>\n",
       "<style scoped>\n",
       "    .dataframe tbody tr th:only-of-type {\n",
       "        vertical-align: middle;\n",
       "    }\n",
       "\n",
       "    .dataframe tbody tr th {\n",
       "        vertical-align: top;\n",
       "    }\n",
       "\n",
       "    .dataframe thead th {\n",
       "        text-align: right;\n",
       "    }\n",
       "</style>\n",
       "<table border=\"1\" class=\"dataframe\">\n",
       "  <thead>\n",
       "    <tr style=\"text-align: right;\">\n",
       "      <th></th>\n",
       "      <th>PatientID</th>\n",
       "      <th>NoShow</th>\n",
       "      <th>SMSreceived</th>\n",
       "    </tr>\n",
       "  </thead>\n",
       "  <tbody>\n",
       "    <tr>\n",
       "      <th>0</th>\n",
       "      <td>29872499824296</td>\n",
       "      <td>No</td>\n",
       "      <td>0</td>\n",
       "    </tr>\n",
       "    <tr>\n",
       "      <th>1</th>\n",
       "      <td>558997776694438</td>\n",
       "      <td>No</td>\n",
       "      <td>0</td>\n",
       "    </tr>\n",
       "    <tr>\n",
       "      <th>2</th>\n",
       "      <td>2978363769149</td>\n",
       "      <td>No</td>\n",
       "      <td>1</td>\n",
       "    </tr>\n",
       "    <tr>\n",
       "      <th>3</th>\n",
       "      <td>6326444238163</td>\n",
       "      <td>No</td>\n",
       "      <td>0</td>\n",
       "    </tr>\n",
       "    <tr>\n",
       "      <th>4</th>\n",
       "      <td>55583448227198</td>\n",
       "      <td>No</td>\n",
       "      <td>0</td>\n",
       "    </tr>\n",
       "    <tr>\n",
       "      <th>...</th>\n",
       "      <td>...</td>\n",
       "      <td>...</td>\n",
       "      <td>...</td>\n",
       "    </tr>\n",
       "    <tr>\n",
       "      <th>6568</th>\n",
       "      <td>15613117122346</td>\n",
       "      <td>No</td>\n",
       "      <td>0</td>\n",
       "    </tr>\n",
       "    <tr>\n",
       "      <th>6569</th>\n",
       "      <td>19314223565</td>\n",
       "      <td>No</td>\n",
       "      <td>1</td>\n",
       "    </tr>\n",
       "    <tr>\n",
       "      <th>6570</th>\n",
       "      <td>5965757389437</td>\n",
       "      <td>No</td>\n",
       "      <td>1</td>\n",
       "    </tr>\n",
       "    <tr>\n",
       "      <th>6571</th>\n",
       "      <td>7825443833792</td>\n",
       "      <td>No</td>\n",
       "      <td>1</td>\n",
       "    </tr>\n",
       "    <tr>\n",
       "      <th>6572</th>\n",
       "      <td>598674846832672</td>\n",
       "      <td>No</td>\n",
       "      <td>1</td>\n",
       "    </tr>\n",
       "  </tbody>\n",
       "</table>\n",
       "<p>6573 rows × 3 columns</p>\n",
       "</div>"
      ],
      "text/plain": [
       "            PatientID NoShow  SMSreceived\n",
       "0      29872499824296     No            0\n",
       "1     558997776694438     No            0\n",
       "2       2978363769149     No            1\n",
       "3       6326444238163     No            0\n",
       "4      55583448227198     No            0\n",
       "...               ...    ...          ...\n",
       "6568   15613117122346     No            0\n",
       "6569      19314223565     No            1\n",
       "6570    5965757389437     No            1\n",
       "6571    7825443833792     No            1\n",
       "6572  598674846832672     No            1\n",
       "\n",
       "[6573 rows x 3 columns]"
      ]
     },
     "execution_count": 314,
     "metadata": {},
     "output_type": "execute_result"
    }
   ],
   "source": [
    "# Rename 3 columns for consistently\n",
    "df.rename(columns={'PatientId':'PatientID',\n",
    "                   'No-show':'NoShow',\n",
    "                   'SMS_received':'SMSreceived'}, inplace=True)\n",
    "df[['PatientID', 'NoShow', 'SMSreceived']]"
   ]
  },
  {
   "cell_type": "markdown",
   "metadata": {},
   "source": [
    "# Remove Duplicates"
   ]
  },
  {
   "cell_type": "code",
   "execution_count": 315,
   "metadata": {},
   "outputs": [
    {
     "data": {
      "text/plain": [
       "(6569, 14)"
      ]
     },
     "execution_count": 315,
     "metadata": {},
     "output_type": "execute_result"
    }
   ],
   "source": [
    "# Drop duplicated data\n",
    "# Write code here\n",
    "\n",
    "df = df.drop_duplicates()\n",
    "\n",
    "df.shape"
   ]
  },
  {
   "cell_type": "markdown",
   "metadata": {},
   "source": [
    "**Observations**\n",
    "- 6569 rows left\n",
    "- 14 columns"
   ]
  },
  {
   "cell_type": "markdown",
   "metadata": {},
   "source": [
    "# Remove Rows with Missing Values"
   ]
  },
  {
   "cell_type": "code",
   "execution_count": 316,
   "metadata": {},
   "outputs": [
    {
     "data": {
      "text/plain": [
       "PatientID          0\n",
       "AppointmentID      0\n",
       "Gender             0\n",
       "ScheduleDay        0\n",
       "AppointmentDay     0\n",
       "Age                7\n",
       "Neighbourhood      0\n",
       "FamilyAllowance    1\n",
       "Hypertension       1\n",
       "Diabetes           4\n",
       "Alcoholism         1\n",
       "Handicap           1\n",
       "SMSreceived        0\n",
       "NoShow             0\n",
       "dtype: int64"
      ]
     },
     "execution_count": 316,
     "metadata": {},
     "output_type": "execute_result"
    }
   ],
   "source": [
    "# Display variables with null values \n",
    "# Write code here\n",
    "\n",
    "df.isnull().sum()"
   ]
  },
  {
   "cell_type": "code",
   "execution_count": 317,
   "metadata": {},
   "outputs": [
    {
     "data": {
      "text/plain": [
       "PatientID           0\n",
       "AppointmentID       0\n",
       "Gender              0\n",
       "ScheduleDay         0\n",
       "AppointmentDay      0\n",
       "Age                12\n",
       "Neighbourhood       0\n",
       "FamilyAllowance     1\n",
       "Hypertension        1\n",
       "Diabetes            4\n",
       "Alcoholism          1\n",
       "Handicap            1\n",
       "SMSreceived         0\n",
       "NoShow              0\n",
       "dtype: int64"
      ]
     },
     "execution_count": 317,
     "metadata": {},
     "output_type": "execute_result"
    }
   ],
   "source": [
    "df = df.replace(\"?\",np.nan)\n",
    "df.isnull().sum()"
   ]
  },
  {
   "cell_type": "code",
   "execution_count": 318,
   "metadata": {},
   "outputs": [
    {
     "data": {
      "text/plain": [
       "PatientID           0\n",
       "AppointmentID       0\n",
       "Gender              0\n",
       "ScheduleDay         0\n",
       "AppointmentDay      0\n",
       "Age                12\n",
       "Neighbourhood       0\n",
       "FamilyAllowance     1\n",
       "Hypertension        1\n",
       "Diabetes            4\n",
       "Alcoholism          1\n",
       "Handicap            1\n",
       "SMSreceived         0\n",
       "NoShow              0\n",
       "dtype: int64"
      ]
     },
     "execution_count": 318,
     "metadata": {},
     "output_type": "execute_result"
    }
   ],
   "source": [
    "# Need to replace \"?\" with nan before we can remove them\n",
    "# Write code here\n",
    "\n",
    "\n",
    "df = df.replace(\"?\",np.nan)\n",
    "df.isnull().sum()"
   ]
  },
  {
   "cell_type": "code",
   "execution_count": 319,
   "metadata": {},
   "outputs": [
    {
     "data": {
      "text/plain": [
       "PatientID           0\n",
       "AppointmentID       0\n",
       "Gender              0\n",
       "ScheduleDay         0\n",
       "AppointmentDay      0\n",
       "Age                13\n",
       "Neighbourhood       0\n",
       "FamilyAllowance     1\n",
       "Hypertension        1\n",
       "Diabetes            4\n",
       "Alcoholism          1\n",
       "Handicap            1\n",
       "SMSreceived         0\n",
       "NoShow              0\n",
       "dtype: int64"
      ]
     },
     "execution_count": 319,
     "metadata": {},
     "output_type": "execute_result"
    }
   ],
   "source": [
    "# Need to replace \"  \" with nan before we can remove them\n",
    "# Write code here\n",
    "\n",
    "df = df.replace(\"  \",np.nan)\n",
    "df.isnull().sum()\n"
   ]
  },
  {
   "cell_type": "code",
   "execution_count": 320,
   "metadata": {
    "scrolled": true
   },
   "outputs": [],
   "source": [
    "# Remove missing (or nan) values\n",
    "# Write code here\n",
    "\n",
    "df = df.dropna()"
   ]
  },
  {
   "cell_type": "code",
   "execution_count": 321,
   "metadata": {
    "scrolled": true
   },
   "outputs": [
    {
     "data": {
      "text/plain": [
       "(6548, 14)"
      ]
     },
     "execution_count": 321,
     "metadata": {},
     "output_type": "execute_result"
    }
   ],
   "source": [
    "# Shape\n",
    "df.shape"
   ]
  },
  {
   "cell_type": "markdown",
   "metadata": {},
   "source": [
    "**Observations**\n",
    "- 6548 rows left\n",
    "- 14 columns"
   ]
  },
  {
   "cell_type": "code",
   "execution_count": 322,
   "metadata": {},
   "outputs": [
    {
     "data": {
      "text/plain": [
       "PatientID          0\n",
       "AppointmentID      0\n",
       "Gender             0\n",
       "ScheduleDay        0\n",
       "AppointmentDay     0\n",
       "Age                0\n",
       "Neighbourhood      0\n",
       "FamilyAllowance    0\n",
       "Hypertension       0\n",
       "Diabetes           0\n",
       "Alcoholism         0\n",
       "Handicap           0\n",
       "SMSreceived        0\n",
       "NoShow             0\n",
       "dtype: int64"
      ]
     },
     "execution_count": 322,
     "metadata": {},
     "output_type": "execute_result"
    }
   ],
   "source": [
    "# Display any missing values\n",
    "# Write code here\n",
    "\n",
    "df.isnull().sum()"
   ]
  },
  {
   "cell_type": "markdown",
   "metadata": {},
   "source": [
    "**Observations**\n",
    "- No null values"
   ]
  },
  {
   "cell_type": "markdown",
   "metadata": {},
   "source": [
    "# Date Type Transformation"
   ]
  },
  {
   "cell_type": "markdown",
   "metadata": {},
   "source": [
    "## Date-Time Transformation\n",
    "Convert ScheduleDay and AppointmentDay into datetime format so as to:\n",
    "- compare dates\n",
    "- compute waiting time"
   ]
  },
  {
   "cell_type": "code",
   "execution_count": 323,
   "metadata": {
    "scrolled": true
   },
   "outputs": [],
   "source": [
    "# Convert ScheduleDay and AppointmentDay into datetime format\n",
    "# Write code here\n",
    "\n",
    "df['ScheduleDay'] = pd.to_datetime(df['ScheduleDay'], utc=True, format = '%Y-%m-%dT%H:%M:%SZ', errors = 'coerce')\n",
    "df['AppointmentDay'] = pd.to_datetime(df['AppointmentDay'], utc=True, format = '%Y-%m-%dT%H:%M:%SZ', errors = 'coerce')\n"
   ]
  },
  {
   "cell_type": "code",
   "execution_count": 324,
   "metadata": {
    "scrolled": true
   },
   "outputs": [
    {
     "name": "stdout",
     "output_type": "stream",
     "text": [
      "<class 'pandas.core.frame.DataFrame'>\n",
      "Int64Index: 6548 entries, 0 to 6572\n",
      "Data columns (total 14 columns):\n",
      " #   Column           Non-Null Count  Dtype              \n",
      "---  ------           --------------  -----              \n",
      " 0   PatientID        6548 non-null   int64              \n",
      " 1   AppointmentID    6548 non-null   int64              \n",
      " 2   Gender           6548 non-null   object             \n",
      " 3   ScheduleDay      6548 non-null   datetime64[ns, UTC]\n",
      " 4   AppointmentDay   6548 non-null   datetime64[ns, UTC]\n",
      " 5   Age              6548 non-null   object             \n",
      " 6   Neighbourhood    6548 non-null   object             \n",
      " 7   FamilyAllowance  6548 non-null   float64            \n",
      " 8   Hypertension     6548 non-null   float64            \n",
      " 9   Diabetes         6548 non-null   float64            \n",
      " 10  Alcoholism       6548 non-null   float64            \n",
      " 11  Handicap         6548 non-null   float64            \n",
      " 12  SMSreceived      6548 non-null   int64              \n",
      " 13  NoShow           6548 non-null   object             \n",
      "dtypes: datetime64[ns, UTC](2), float64(5), int64(3), object(4)\n",
      "memory usage: 767.3+ KB\n"
     ]
    }
   ],
   "source": [
    "# Examine data format\n",
    "# Write code here\n",
    "\n",
    "df.info()"
   ]
  },
  {
   "cell_type": "markdown",
   "metadata": {},
   "source": [
    "## Categorical Transformation\n",
    "Convert Gender and Neighbourhood to 'category' format so as to:\n",
    "- better understanding\n",
    "- easy analysis"
   ]
  },
  {
   "cell_type": "code",
   "execution_count": 325,
   "metadata": {
    "scrolled": true
   },
   "outputs": [
    {
     "data": {
      "text/plain": [
       "PatientID                        int64\n",
       "AppointmentID                    int64\n",
       "Gender                        category\n",
       "ScheduleDay        datetime64[ns, UTC]\n",
       "AppointmentDay     datetime64[ns, UTC]\n",
       "Age                             object\n",
       "Neighbourhood                 category\n",
       "FamilyAllowance                float64\n",
       "Hypertension                   float64\n",
       "Diabetes                       float64\n",
       "Alcoholism                     float64\n",
       "Handicap                       float64\n",
       "SMSreceived                      int64\n",
       "NoShow                          object\n",
       "dtype: object"
      ]
     },
     "execution_count": 325,
     "metadata": {},
     "output_type": "execute_result"
    }
   ],
   "source": [
    "# Convert Gender and Neighbourhood into category format\n",
    "# Write code here\n",
    "\n",
    "df['Gender'] = df['Gender'].astype('category')\n",
    "df['Neighbourhood'] = df['Neighbourhood'].astype('category')\n",
    "\n",
    "\n",
    "df.dtypes"
   ]
  },
  {
   "cell_type": "markdown",
   "metadata": {},
   "source": [
    "## int and bool Transformation\n",
    "Convert Age, FamilyAllowance, Hypertension, Diabetes, Alcoholism, Handicap, SMSreceived, and NoShow to 'bool' format."
   ]
  },
  {
   "cell_type": "code",
   "execution_count": 326,
   "metadata": {},
   "outputs": [
    {
     "data": {
      "text/plain": [
       "PatientID                        int64\n",
       "AppointmentID                    int64\n",
       "Gender                        category\n",
       "ScheduleDay        datetime64[ns, UTC]\n",
       "AppointmentDay     datetime64[ns, UTC]\n",
       "Age                             object\n",
       "Neighbourhood                 category\n",
       "FamilyAllowance                float64\n",
       "Hypertension                   float64\n",
       "Diabetes                       float64\n",
       "Alcoholism                     float64\n",
       "Handicap                       float64\n",
       "SMSreceived                      int64\n",
       "NoShow                          object\n",
       "dtype: object"
      ]
     },
     "execution_count": 326,
     "metadata": {},
     "output_type": "execute_result"
    }
   ],
   "source": [
    "# Display variable types\n",
    "df.dtypes"
   ]
  },
  {
   "cell_type": "code",
   "execution_count": 327,
   "metadata": {
    "scrolled": true
   },
   "outputs": [
    {
     "data": {
      "text/plain": [
       "PatientID                        int64\n",
       "AppointmentID                    int64\n",
       "Gender                        category\n",
       "ScheduleDay        datetime64[ns, UTC]\n",
       "AppointmentDay     datetime64[ns, UTC]\n",
       "Age                              int32\n",
       "Neighbourhood                 category\n",
       "FamilyAllowance                   bool\n",
       "Hypertension                      bool\n",
       "Diabetes                          bool\n",
       "Alcoholism                        bool\n",
       "Handicap                          bool\n",
       "SMSreceived                       bool\n",
       "NoShow                            bool\n",
       "dtype: object"
      ]
     },
     "execution_count": 327,
     "metadata": {},
     "output_type": "execute_result"
    }
   ],
   "source": [
    "# Convert FamilyAllowance, Hypertension, Diabetes, Alcoholism, Handicap, SMSreceived, \n",
    "# and NoShow into bool format\n",
    "# Write code here\n",
    "\n",
    "\n",
    "df = df.astype({'Age': int, 'FamilyAllowance':bool, 'Hypertension':bool, 'Diabetes': bool, 'Alcoholism': bool, 'Handicap': bool, 'SMSreceived': bool, 'NoShow': bool})\n",
    "\n",
    "\n",
    "\n",
    "\n",
    "\n",
    "\n",
    "\n",
    "df.dtypes"
   ]
  },
  {
   "cell_type": "markdown",
   "metadata": {},
   "source": [
    "# Compute New Features"
   ]
  },
  {
   "cell_type": "markdown",
   "metadata": {},
   "source": [
    "## New Feature: WaitingDays"
   ]
  },
  {
   "cell_type": "code",
   "execution_count": 328,
   "metadata": {
    "scrolled": true
   },
   "outputs": [
    {
     "data": {
      "text/plain": [
       "0        0\n",
       "1        0\n",
       "2        6\n",
       "3        0\n",
       "5       28\n",
       "        ..\n",
       "6568     0\n",
       "6569     5\n",
       "6570     4\n",
       "6571     5\n",
       "6572     4\n",
       "Name: WaitingDays, Length: 6548, dtype: int64"
      ]
     },
     "execution_count": 328,
     "metadata": {},
     "output_type": "execute_result"
    }
   ],
   "source": [
    "# Create a new variable WaitingDays\n",
    "# WaitingDays = (AppointmentDay – ScheduleDay).day + 1\n",
    "df['WaitingDays'] = (df['AppointmentDay']-df['ScheduleDay']).apply(lambda x:x.days) + 1\n",
    "df['WaitingDays']"
   ]
  },
  {
   "cell_type": "markdown",
   "metadata": {},
   "source": [
    "**Observations**\n",
    "- 0 day: Scheduling and Appointment are on the same day\n",
    "- 1 day: Appointment happens the day after Scheduling\n",
    "- ... etc."
   ]
  },
  {
   "cell_type": "markdown",
   "metadata": {},
   "source": [
    "## New Feature: AppointmentWeekDay"
   ]
  },
  {
   "cell_type": "code",
   "execution_count": 329,
   "metadata": {
    "scrolled": true
   },
   "outputs": [
    {
     "data": {
      "text/html": [
       "<div>\n",
       "<style scoped>\n",
       "    .dataframe tbody tr th:only-of-type {\n",
       "        vertical-align: middle;\n",
       "    }\n",
       "\n",
       "    .dataframe tbody tr th {\n",
       "        vertical-align: top;\n",
       "    }\n",
       "\n",
       "    .dataframe thead th {\n",
       "        text-align: right;\n",
       "    }\n",
       "</style>\n",
       "<table border=\"1\" class=\"dataframe\">\n",
       "  <thead>\n",
       "    <tr style=\"text-align: right;\">\n",
       "      <th></th>\n",
       "      <th>AppointmentWeekDay</th>\n",
       "      <th>AppointmentDay</th>\n",
       "    </tr>\n",
       "  </thead>\n",
       "  <tbody>\n",
       "    <tr>\n",
       "      <th>0</th>\n",
       "      <td>4</td>\n",
       "      <td>2016-04-29 00:00:00+00:00</td>\n",
       "    </tr>\n",
       "    <tr>\n",
       "      <th>1</th>\n",
       "      <td>4</td>\n",
       "      <td>2016-04-29 00:00:00+00:00</td>\n",
       "    </tr>\n",
       "    <tr>\n",
       "      <th>2</th>\n",
       "      <td>3</td>\n",
       "      <td>2016-05-12 00:00:00+00:00</td>\n",
       "    </tr>\n",
       "    <tr>\n",
       "      <th>3</th>\n",
       "      <td>3</td>\n",
       "      <td>2016-05-05 00:00:00+00:00</td>\n",
       "    </tr>\n",
       "    <tr>\n",
       "      <th>5</th>\n",
       "      <td>4</td>\n",
       "      <td>2016-05-06 00:00:00+00:00</td>\n",
       "    </tr>\n",
       "    <tr>\n",
       "      <th>...</th>\n",
       "      <td>...</td>\n",
       "      <td>...</td>\n",
       "    </tr>\n",
       "    <tr>\n",
       "      <th>6568</th>\n",
       "      <td>0</td>\n",
       "      <td>2016-06-06 00:00:00+00:00</td>\n",
       "    </tr>\n",
       "    <tr>\n",
       "      <th>6569</th>\n",
       "      <td>1</td>\n",
       "      <td>2016-06-07 00:00:00+00:00</td>\n",
       "    </tr>\n",
       "    <tr>\n",
       "      <th>6570</th>\n",
       "      <td>1</td>\n",
       "      <td>2016-06-07 00:00:00+00:00</td>\n",
       "    </tr>\n",
       "    <tr>\n",
       "      <th>6571</th>\n",
       "      <td>1</td>\n",
       "      <td>2016-06-07 00:00:00+00:00</td>\n",
       "    </tr>\n",
       "    <tr>\n",
       "      <th>6572</th>\n",
       "      <td>1</td>\n",
       "      <td>2016-06-07 00:00:00+00:00</td>\n",
       "    </tr>\n",
       "  </tbody>\n",
       "</table>\n",
       "<p>6548 rows × 2 columns</p>\n",
       "</div>"
      ],
      "text/plain": [
       "      AppointmentWeekDay            AppointmentDay\n",
       "0                      4 2016-04-29 00:00:00+00:00\n",
       "1                      4 2016-04-29 00:00:00+00:00\n",
       "2                      3 2016-05-12 00:00:00+00:00\n",
       "3                      3 2016-05-05 00:00:00+00:00\n",
       "5                      4 2016-05-06 00:00:00+00:00\n",
       "...                  ...                       ...\n",
       "6568                   0 2016-06-06 00:00:00+00:00\n",
       "6569                   1 2016-06-07 00:00:00+00:00\n",
       "6570                   1 2016-06-07 00:00:00+00:00\n",
       "6571                   1 2016-06-07 00:00:00+00:00\n",
       "6572                   1 2016-06-07 00:00:00+00:00\n",
       "\n",
       "[6548 rows x 2 columns]"
      ]
     },
     "execution_count": 329,
     "metadata": {},
     "output_type": "execute_result"
    }
   ],
   "source": [
    "# Create a new variable AppointmentWeekDay\n",
    "# AppointmentWeekDay is the day of week of AppointmentDay\n",
    "# Write code here\n",
    "\n",
    "\n",
    "df['AppointmentWeekDay'] = pd.DatetimeIndex(df['AppointmentDay']).dayofweek\n",
    "\n",
    "df[['AppointmentWeekDay', 'AppointmentDay']]"
   ]
  },
  {
   "cell_type": "markdown",
   "metadata": {},
   "source": [
    "**Observations**\n",
    "- 0: Monday, 1:Tuesday, 2:Wednesday, 3:Thursday, 4:Friday, 5:Saturday, 6:Sunday"
   ]
  },
  {
   "cell_type": "markdown",
   "metadata": {},
   "source": [
    "**Observations**\n",
    "- 6548 rows left"
   ]
  },
  {
   "cell_type": "markdown",
   "metadata": {},
   "source": [
    "# Remove Erroneous Data\n",
    "- Error 1: AppointmentDay should not be earlier than ScheduleDay i.e. error if WaitingDays < 0\n",
    "- Error 2: Age must be non-negative i.e. error if Age < 0"
   ]
  },
  {
   "cell_type": "code",
   "execution_count": 330,
   "metadata": {
    "scrolled": true
   },
   "outputs": [
    {
     "data": {
      "text/html": [
       "<div>\n",
       "<style scoped>\n",
       "    .dataframe tbody tr th:only-of-type {\n",
       "        vertical-align: middle;\n",
       "    }\n",
       "\n",
       "    .dataframe tbody tr th {\n",
       "        vertical-align: top;\n",
       "    }\n",
       "\n",
       "    .dataframe thead th {\n",
       "        text-align: right;\n",
       "    }\n",
       "</style>\n",
       "<table border=\"1\" class=\"dataframe\">\n",
       "  <thead>\n",
       "    <tr style=\"text-align: right;\">\n",
       "      <th></th>\n",
       "      <th>PatientID</th>\n",
       "      <th>AppointmentID</th>\n",
       "      <th>Gender</th>\n",
       "      <th>ScheduleDay</th>\n",
       "      <th>AppointmentDay</th>\n",
       "      <th>Age</th>\n",
       "      <th>Neighbourhood</th>\n",
       "      <th>FamilyAllowance</th>\n",
       "      <th>Hypertension</th>\n",
       "      <th>Diabetes</th>\n",
       "      <th>Alcoholism</th>\n",
       "      <th>Handicap</th>\n",
       "      <th>SMSreceived</th>\n",
       "      <th>NoShow</th>\n",
       "      <th>WaitingDays</th>\n",
       "      <th>AppointmentWeekDay</th>\n",
       "    </tr>\n",
       "  </thead>\n",
       "  <tbody>\n",
       "    <tr>\n",
       "      <th>0</th>\n",
       "      <td>29872499824296</td>\n",
       "      <td>5642903</td>\n",
       "      <td>F</td>\n",
       "      <td>2016-04-29 18:38:08+00:00</td>\n",
       "      <td>2016-04-29 00:00:00+00:00</td>\n",
       "      <td>62</td>\n",
       "      <td>JARDIM DA PENHA</td>\n",
       "      <td>False</td>\n",
       "      <td>True</td>\n",
       "      <td>False</td>\n",
       "      <td>False</td>\n",
       "      <td>False</td>\n",
       "      <td>False</td>\n",
       "      <td>True</td>\n",
       "      <td>0</td>\n",
       "      <td>4</td>\n",
       "    </tr>\n",
       "    <tr>\n",
       "      <th>1</th>\n",
       "      <td>558997776694438</td>\n",
       "      <td>5642503</td>\n",
       "      <td>M</td>\n",
       "      <td>2016-04-29 16:08:27+00:00</td>\n",
       "      <td>2016-04-29 00:00:00+00:00</td>\n",
       "      <td>56</td>\n",
       "      <td>JARDIM DA PENHA</td>\n",
       "      <td>False</td>\n",
       "      <td>False</td>\n",
       "      <td>False</td>\n",
       "      <td>False</td>\n",
       "      <td>False</td>\n",
       "      <td>False</td>\n",
       "      <td>True</td>\n",
       "      <td>0</td>\n",
       "      <td>4</td>\n",
       "    </tr>\n",
       "    <tr>\n",
       "      <th>2</th>\n",
       "      <td>2978363769149</td>\n",
       "      <td>5671456</td>\n",
       "      <td>F</td>\n",
       "      <td>2016-05-06 17:10:31+00:00</td>\n",
       "      <td>2016-05-12 00:00:00+00:00</td>\n",
       "      <td>21</td>\n",
       "      <td>JARDIM DA PENHA</td>\n",
       "      <td>False</td>\n",
       "      <td>False</td>\n",
       "      <td>False</td>\n",
       "      <td>False</td>\n",
       "      <td>False</td>\n",
       "      <td>True</td>\n",
       "      <td>True</td>\n",
       "      <td>6</td>\n",
       "      <td>3</td>\n",
       "    </tr>\n",
       "    <tr>\n",
       "      <th>3</th>\n",
       "      <td>6326444238163</td>\n",
       "      <td>5662931</td>\n",
       "      <td>F</td>\n",
       "      <td>2016-05-05 09:14:10+00:00</td>\n",
       "      <td>2016-05-05 00:00:00+00:00</td>\n",
       "      <td>55</td>\n",
       "      <td>JARDIM DA PENHA</td>\n",
       "      <td>False</td>\n",
       "      <td>True</td>\n",
       "      <td>False</td>\n",
       "      <td>False</td>\n",
       "      <td>False</td>\n",
       "      <td>False</td>\n",
       "      <td>True</td>\n",
       "      <td>0</td>\n",
       "      <td>3</td>\n",
       "    </tr>\n",
       "    <tr>\n",
       "      <th>4</th>\n",
       "      <td>848511136446923</td>\n",
       "      <td>5562224</td>\n",
       "      <td>M</td>\n",
       "      <td>2016-04-08 12:56:06+00:00</td>\n",
       "      <td>2016-05-06 00:00:00+00:00</td>\n",
       "      <td>77</td>\n",
       "      <td>JARDIM DA PENHA</td>\n",
       "      <td>False</td>\n",
       "      <td>True</td>\n",
       "      <td>False</td>\n",
       "      <td>True</td>\n",
       "      <td>False</td>\n",
       "      <td>True</td>\n",
       "      <td>True</td>\n",
       "      <td>28</td>\n",
       "      <td>4</td>\n",
       "    </tr>\n",
       "    <tr>\n",
       "      <th>...</th>\n",
       "      <td>...</td>\n",
       "      <td>...</td>\n",
       "      <td>...</td>\n",
       "      <td>...</td>\n",
       "      <td>...</td>\n",
       "      <td>...</td>\n",
       "      <td>...</td>\n",
       "      <td>...</td>\n",
       "      <td>...</td>\n",
       "      <td>...</td>\n",
       "      <td>...</td>\n",
       "      <td>...</td>\n",
       "      <td>...</td>\n",
       "      <td>...</td>\n",
       "      <td>...</td>\n",
       "      <td>...</td>\n",
       "    </tr>\n",
       "    <tr>\n",
       "      <th>6541</th>\n",
       "      <td>15613117122346</td>\n",
       "      <td>5779070</td>\n",
       "      <td>M</td>\n",
       "      <td>2016-06-06 17:42:01+00:00</td>\n",
       "      <td>2016-06-06 00:00:00+00:00</td>\n",
       "      <td>62</td>\n",
       "      <td>JARDIM CAMBURI</td>\n",
       "      <td>False</td>\n",
       "      <td>False</td>\n",
       "      <td>False</td>\n",
       "      <td>False</td>\n",
       "      <td>False</td>\n",
       "      <td>False</td>\n",
       "      <td>True</td>\n",
       "      <td>0</td>\n",
       "      <td>0</td>\n",
       "    </tr>\n",
       "    <tr>\n",
       "      <th>6542</th>\n",
       "      <td>19314223565</td>\n",
       "      <td>5767006</td>\n",
       "      <td>F</td>\n",
       "      <td>2016-06-02 16:13:58+00:00</td>\n",
       "      <td>2016-06-07 00:00:00+00:00</td>\n",
       "      <td>55</td>\n",
       "      <td>JARDIM CAMBURI</td>\n",
       "      <td>False</td>\n",
       "      <td>False</td>\n",
       "      <td>False</td>\n",
       "      <td>False</td>\n",
       "      <td>False</td>\n",
       "      <td>True</td>\n",
       "      <td>True</td>\n",
       "      <td>5</td>\n",
       "      <td>1</td>\n",
       "    </tr>\n",
       "    <tr>\n",
       "      <th>6543</th>\n",
       "      <td>5965757389437</td>\n",
       "      <td>5771390</td>\n",
       "      <td>F</td>\n",
       "      <td>2016-06-03 12:45:35+00:00</td>\n",
       "      <td>2016-06-07 00:00:00+00:00</td>\n",
       "      <td>56</td>\n",
       "      <td>JARDIM CAMBURI</td>\n",
       "      <td>False</td>\n",
       "      <td>False</td>\n",
       "      <td>False</td>\n",
       "      <td>False</td>\n",
       "      <td>False</td>\n",
       "      <td>True</td>\n",
       "      <td>True</td>\n",
       "      <td>4</td>\n",
       "      <td>1</td>\n",
       "    </tr>\n",
       "    <tr>\n",
       "      <th>6544</th>\n",
       "      <td>7825443833792</td>\n",
       "      <td>5767544</td>\n",
       "      <td>F</td>\n",
       "      <td>2016-06-02 18:32:06+00:00</td>\n",
       "      <td>2016-06-07 00:00:00+00:00</td>\n",
       "      <td>60</td>\n",
       "      <td>JARDIM CAMBURI</td>\n",
       "      <td>False</td>\n",
       "      <td>False</td>\n",
       "      <td>False</td>\n",
       "      <td>False</td>\n",
       "      <td>False</td>\n",
       "      <td>True</td>\n",
       "      <td>True</td>\n",
       "      <td>5</td>\n",
       "      <td>1</td>\n",
       "    </tr>\n",
       "    <tr>\n",
       "      <th>6545</th>\n",
       "      <td>598674846832672</td>\n",
       "      <td>5770793</td>\n",
       "      <td>M</td>\n",
       "      <td>2016-06-03 10:57:50+00:00</td>\n",
       "      <td>2016-06-07 00:00:00+00:00</td>\n",
       "      <td>44</td>\n",
       "      <td>JARDIM CAMBURI</td>\n",
       "      <td>False</td>\n",
       "      <td>False</td>\n",
       "      <td>False</td>\n",
       "      <td>False</td>\n",
       "      <td>False</td>\n",
       "      <td>True</td>\n",
       "      <td>True</td>\n",
       "      <td>4</td>\n",
       "      <td>1</td>\n",
       "    </tr>\n",
       "  </tbody>\n",
       "</table>\n",
       "<p>6546 rows × 16 columns</p>\n",
       "</div>"
      ],
      "text/plain": [
       "            PatientID  AppointmentID Gender               ScheduleDay  \\\n",
       "0      29872499824296        5642903      F 2016-04-29 18:38:08+00:00   \n",
       "1     558997776694438        5642503      M 2016-04-29 16:08:27+00:00   \n",
       "2       2978363769149        5671456      F 2016-05-06 17:10:31+00:00   \n",
       "3       6326444238163        5662931      F 2016-05-05 09:14:10+00:00   \n",
       "4     848511136446923        5562224      M 2016-04-08 12:56:06+00:00   \n",
       "...               ...            ...    ...                       ...   \n",
       "6541   15613117122346        5779070      M 2016-06-06 17:42:01+00:00   \n",
       "6542      19314223565        5767006      F 2016-06-02 16:13:58+00:00   \n",
       "6543    5965757389437        5771390      F 2016-06-03 12:45:35+00:00   \n",
       "6544    7825443833792        5767544      F 2016-06-02 18:32:06+00:00   \n",
       "6545  598674846832672        5770793      M 2016-06-03 10:57:50+00:00   \n",
       "\n",
       "                AppointmentDay  Age    Neighbourhood  FamilyAllowance  \\\n",
       "0    2016-04-29 00:00:00+00:00   62  JARDIM DA PENHA            False   \n",
       "1    2016-04-29 00:00:00+00:00   56  JARDIM DA PENHA            False   \n",
       "2    2016-05-12 00:00:00+00:00   21  JARDIM DA PENHA            False   \n",
       "3    2016-05-05 00:00:00+00:00   55  JARDIM DA PENHA            False   \n",
       "4    2016-05-06 00:00:00+00:00   77  JARDIM DA PENHA            False   \n",
       "...                        ...  ...              ...              ...   \n",
       "6541 2016-06-06 00:00:00+00:00   62   JARDIM CAMBURI            False   \n",
       "6542 2016-06-07 00:00:00+00:00   55   JARDIM CAMBURI            False   \n",
       "6543 2016-06-07 00:00:00+00:00   56   JARDIM CAMBURI            False   \n",
       "6544 2016-06-07 00:00:00+00:00   60   JARDIM CAMBURI            False   \n",
       "6545 2016-06-07 00:00:00+00:00   44   JARDIM CAMBURI            False   \n",
       "\n",
       "      Hypertension  Diabetes  Alcoholism  Handicap  SMSreceived  NoShow  \\\n",
       "0             True     False       False     False        False    True   \n",
       "1            False     False       False     False        False    True   \n",
       "2            False     False       False     False         True    True   \n",
       "3             True     False       False     False        False    True   \n",
       "4             True     False        True     False         True    True   \n",
       "...            ...       ...         ...       ...          ...     ...   \n",
       "6541         False     False       False     False        False    True   \n",
       "6542         False     False       False     False         True    True   \n",
       "6543         False     False       False     False         True    True   \n",
       "6544         False     False       False     False         True    True   \n",
       "6545         False     False       False     False         True    True   \n",
       "\n",
       "      WaitingDays  AppointmentWeekDay  \n",
       "0               0                   4  \n",
       "1               0                   4  \n",
       "2               6                   3  \n",
       "3               0                   3  \n",
       "4              28                   4  \n",
       "...           ...                 ...  \n",
       "6541            0                   0  \n",
       "6542            5                   1  \n",
       "6543            4                   1  \n",
       "6544            5                   1  \n",
       "6545            4                   1  \n",
       "\n",
       "[6546 rows x 16 columns]"
      ]
     },
     "execution_count": 330,
     "metadata": {},
     "output_type": "execute_result"
    }
   ],
   "source": [
    "# Remove erroneous data\n",
    "# Write code here\n",
    "\n",
    "\n",
    "index_err_one_to_drop = df[df['WaitingDays'] < 0].index\n",
    "index_err_two_to_drop = df[df['Age'] < 0].index\n",
    "combined_index_to_drop = index_err_one_to_drop.union(index_err_two_to_drop)\n",
    "df.drop(combined_index_to_drop, inplace=True)\n",
    "df.reset_index(drop=True)"
   ]
  },
  {
   "cell_type": "code",
   "execution_count": 331,
   "metadata": {
    "scrolled": true
   },
   "outputs": [
    {
     "name": "stdout",
     "output_type": "stream",
     "text": [
      "<class 'pandas.core.frame.DataFrame'>\n",
      "Int64Index: 6546 entries, 0 to 6572\n",
      "Data columns (total 16 columns):\n",
      " #   Column              Non-Null Count  Dtype              \n",
      "---  ------              --------------  -----              \n",
      " 0   PatientID           6546 non-null   int64              \n",
      " 1   AppointmentID       6546 non-null   int64              \n",
      " 2   Gender              6546 non-null   category           \n",
      " 3   ScheduleDay         6546 non-null   datetime64[ns, UTC]\n",
      " 4   AppointmentDay      6546 non-null   datetime64[ns, UTC]\n",
      " 5   Age                 6546 non-null   int32              \n",
      " 6   Neighbourhood       6546 non-null   category           \n",
      " 7   FamilyAllowance     6546 non-null   bool               \n",
      " 8   Hypertension        6546 non-null   bool               \n",
      " 9   Diabetes            6546 non-null   bool               \n",
      " 10  Alcoholism          6546 non-null   bool               \n",
      " 11  Handicap            6546 non-null   bool               \n",
      " 12  SMSreceived         6546 non-null   bool               \n",
      " 13  NoShow              6546 non-null   bool               \n",
      " 14  WaitingDays         6546 non-null   int64              \n",
      " 15  AppointmentWeekDay  6546 non-null   int64              \n",
      "dtypes: bool(7), category(2), datetime64[ns, UTC](2), int32(1), int64(4)\n",
      "memory usage: 443.7 KB\n"
     ]
    }
   ],
   "source": [
    "# Examine data format\n",
    "# Write code here\n",
    "\n",
    "df.info()"
   ]
  },
  {
   "cell_type": "markdown",
   "metadata": {},
   "source": [
    "**Observations**\n",
    "- 6546 rows left"
   ]
  },
  {
   "cell_type": "markdown",
   "metadata": {},
   "source": [
    "# Outlier Detection"
   ]
  },
  {
   "cell_type": "code",
   "execution_count": 332,
   "metadata": {},
   "outputs": [
    {
     "name": "stderr",
     "output_type": "stream",
     "text": [
      "C:\\Users\\Admin\\anaconda3\\lib\\site-packages\\seaborn\\_decorators.py:36: FutureWarning: Pass the following variable as a keyword arg: x. From version 0.12, the only valid positional argument will be `data`, and passing other arguments without an explicit keyword will result in an error or misinterpretation.\n",
      "  warnings.warn(\n"
     ]
    },
    {
     "data": {
      "image/png": "[encoded data removed]",
      "text/plain": [
       "<Figure size 640x480 with 1 Axes>"
      ]
     },
     "metadata": {},
     "output_type": "display_data"
    }
   ],
   "source": [
    "# Plot WaitingDays box plot\n",
    "sns.boxplot(df[\"WaitingDays\"])\n",
    "plt.xlabel(\"Waiting Days\")\n",
    "plt.show()"
   ]
  },
  {
   "cell_type": "code",
   "execution_count": 333,
   "metadata": {},
   "outputs": [],
   "source": [
    "# Function to find outliers using IQR\n",
    "# IQR (inter-quartile range) = Q3 - Q1\n",
    "# upper bound = Q3 + 1.5 * IQR\n",
    "# lower bound = Q1 – 1.5 * IQR\n",
    "# An outlier is a value beyond the upper bound or a value below the lower bound\n",
    "def find_outliers_IQR(df):\n",
    "    # Write code here\n",
    "    Q1 = df.quantile(0.25)\n",
    "    Q3 = df.quantile(0.75)\n",
    "    IQR = Q3-Q1\n",
    "    upper_bound = Q3 + 1.5 * IQR\n",
    "    lower_bound = Q1 - 1.5 * IQR\n",
    "    outliers = df[((df<(Q1-1.5*IQR)) | (df>(Q3+1.5*IQR)))]   \n",
    "    return outliers"
   ]
  },
  {
   "cell_type": "code",
   "execution_count": 334,
   "metadata": {
    "scrolled": true
   },
   "outputs": [
    {
     "name": "stdout",
     "output_type": "stream",
     "text": [
      "number of outliers: 96\n",
      "max outlier value: 119\n",
      "min outlier value: 51\n",
      "0      NaN\n",
      "1      NaN\n",
      "2      NaN\n",
      "3      NaN\n",
      "5      NaN\n",
      "        ..\n",
      "6568   NaN\n",
      "6569   NaN\n",
      "6570   NaN\n",
      "6571   NaN\n",
      "6572   NaN\n",
      "Name: Outlier, Length: 6546, dtype: float64\n"
     ]
    }
   ],
   "source": [
    "# Find outliers using find_outliers_IQR() function\n",
    "outliers = find_outliers_IQR(df['WaitingDays'])\n",
    "print(\"number of outliers: \" + str(len(outliers)))\n",
    "print(\"max outlier value: \"  + str(outliers.max()))\n",
    "print(\"min outlier value: \"  + str(outliers.min()))\n",
    "df['Outlier'] = outliers\n",
    "print(df['Outlier'])"
   ]
  },
  {
   "cell_type": "code",
   "execution_count": 335,
   "metadata": {},
   "outputs": [
    {
     "name": "stdout",
     "output_type": "stream",
     "text": [
      "(array([ 550,  551,  552,  574,  586,  595,  597,  640,  645,  650,  658,\n",
      "        678,  698,  706,  712,  715,  723,  729,  732,  760,  764,  767,\n",
      "        771,  776,  793,  803,  813,  816,  822,  827,  832,  835, 1068,\n",
      "       2612, 2626, 2711, 2713, 2714, 2754, 2755, 2759, 2760, 2761, 2762,\n",
      "       3019, 3052, 3126, 3129, 3136, 3137, 3138, 3140, 3149, 3152, 3156,\n",
      "       3159, 3161, 3164, 4392, 4406, 4407, 4907, 6372, 6373, 6374, 6375,\n",
      "       6376, 6377, 6378, 6379, 6380, 6381, 6382, 6385, 6386, 6389, 6390,\n",
      "       6395, 6396, 6397, 6398, 6401, 6402, 6405, 6406, 6450, 6451, 6453,\n",
      "       6456, 6473, 6476, 6482, 6483, 6484, 6491, 6492], dtype=int64),)\n"
     ]
    }
   ],
   "source": [
    "# Position (index) of outliers\n",
    "# Write code here\n",
    "\n",
    "\n",
    "print(np.where(df['WaitingDays'] >= outliers.min()))"
   ]
  },
  {
   "cell_type": "code",
   "execution_count": 336,
   "metadata": {},
   "outputs": [
    {
     "data": {
      "text/plain": [
       "PatientID                0\n",
       "AppointmentID            0\n",
       "Gender                   0\n",
       "ScheduleDay              0\n",
       "AppointmentDay           0\n",
       "Age                      0\n",
       "Neighbourhood            0\n",
       "FamilyAllowance          0\n",
       "Hypertension             0\n",
       "Diabetes                 0\n",
       "Alcoholism               0\n",
       "Handicap                 0\n",
       "SMSreceived              0\n",
       "NoShow                   0\n",
       "WaitingDays              0\n",
       "AppointmentWeekDay       0\n",
       "Outlier               6450\n",
       "dtype: int64"
      ]
     },
     "execution_count": 336,
     "metadata": {},
     "output_type": "execute_result"
    }
   ],
   "source": [
    "# Display any missing values\n",
    "# Write code here\n",
    "df.isnull().sum()\n",
    "\n"
   ]
  },
  {
   "cell_type": "markdown",
   "metadata": {},
   "source": [
    "**Observations**\n",
    "- No missing values\n",
    "- Outlier column has NaN or outlier values. Total of 6450 rows."
   ]
  },
  {
   "cell_type": "code",
   "execution_count": 337,
   "metadata": {
    "scrolled": true
   },
   "outputs": [
    {
     "name": "stdout",
     "output_type": "stream",
     "text": [
      "0       False\n",
      "1       False\n",
      "2       False\n",
      "3       False\n",
      "5       False\n",
      "        ...  \n",
      "6568    False\n",
      "6569    False\n",
      "6570    False\n",
      "6571    False\n",
      "6572    False\n",
      "Name: Outlier, Length: 6546, dtype: bool\n"
     ]
    }
   ],
   "source": [
    "# Convert NaN to False and True otherwise\n",
    "# Write code here\n",
    "\n",
    "df['Outlier'] = np.where(df['Outlier'].isna(), False, True)\n",
    "print(df['Outlier'])"
   ]
  },
  {
   "cell_type": "markdown",
   "metadata": {},
   "source": [
    "## Remove Rows with Outliers"
   ]
  },
  {
   "cell_type": "code",
   "execution_count": 339,
   "metadata": {},
   "outputs": [
    {
     "name": "stdout",
     "output_type": "stream",
     "text": [
      "<class 'pandas.core.frame.DataFrame'>\n",
      "Int64Index: 6450 entries, 0 to 6572\n",
      "Data columns (total 17 columns):\n",
      " #   Column              Non-Null Count  Dtype              \n",
      "---  ------              --------------  -----              \n",
      " 0   PatientID           6450 non-null   int64              \n",
      " 1   AppointmentID       6450 non-null   int64              \n",
      " 2   Gender              6450 non-null   category           \n",
      " 3   ScheduleDay         6450 non-null   datetime64[ns, UTC]\n",
      " 4   AppointmentDay      6450 non-null   datetime64[ns, UTC]\n",
      " 5   Age                 6450 non-null   int32              \n",
      " 6   Neighbourhood       6450 non-null   category           \n",
      " 7   FamilyAllowance     6450 non-null   bool               \n",
      " 8   Hypertension        6450 non-null   bool               \n",
      " 9   Diabetes            6450 non-null   bool               \n",
      " 10  Alcoholism          6450 non-null   bool               \n",
      " 11  Handicap            6450 non-null   bool               \n",
      " 12  SMSreceived         6450 non-null   bool               \n",
      " 13  NoShow              6450 non-null   bool               \n",
      " 14  WaitingDays         6450 non-null   int64              \n",
      " 15  AppointmentWeekDay  6450 non-null   int64              \n",
      " 16  Outlier             6450 non-null   bool               \n",
      "dtypes: bool(8), category(2), datetime64[ns, UTC](2), int32(1), int64(4)\n",
      "memory usage: 443.5 KB\n"
     ]
    }
   ],
   "source": [
    "# Remove rows with outliers\n",
    "# Write code here\n",
    "index_outliers_to_drop = df[df['Outlier'] != False].index\n",
    "df.drop(index_outliers_to_drop, inplace=True)\n",
    "\n",
    "\n"
   ]
  },
  {
   "cell_type": "code",
   "execution_count": 340,
   "metadata": {},
   "outputs": [
    {
     "name": "stdout",
     "output_type": "stream",
     "text": [
      "<class 'pandas.core.frame.DataFrame'>\n",
      "Int64Index: 6450 entries, 0 to 6572\n",
      "Data columns (total 17 columns):\n",
      " #   Column              Non-Null Count  Dtype              \n",
      "---  ------              --------------  -----              \n",
      " 0   PatientID           6450 non-null   int64              \n",
      " 1   AppointmentID       6450 non-null   int64              \n",
      " 2   Gender              6450 non-null   category           \n",
      " 3   ScheduleDay         6450 non-null   datetime64[ns, UTC]\n",
      " 4   AppointmentDay      6450 non-null   datetime64[ns, UTC]\n",
      " 5   Age                 6450 non-null   int32              \n",
      " 6   Neighbourhood       6450 non-null   category           \n",
      " 7   FamilyAllowance     6450 non-null   bool               \n",
      " 8   Hypertension        6450 non-null   bool               \n",
      " 9   Diabetes            6450 non-null   bool               \n",
      " 10  Alcoholism          6450 non-null   bool               \n",
      " 11  Handicap            6450 non-null   bool               \n",
      " 12  SMSreceived         6450 non-null   bool               \n",
      " 13  NoShow              6450 non-null   bool               \n",
      " 14  WaitingDays         6450 non-null   int64              \n",
      " 15  AppointmentWeekDay  6450 non-null   int64              \n",
      " 16  Outlier             6450 non-null   bool               \n",
      "dtypes: bool(8), category(2), datetime64[ns, UTC](2), int32(1), int64(4)\n",
      "memory usage: 443.5 KB\n"
     ]
    }
   ],
   "source": [
    "# Examine data format\n",
    "# Write code here\n",
    "\n",
    "df.info()\n"
   ]
  },
  {
   "cell_type": "markdown",
   "metadata": {},
   "source": [
    "# Bin Data into Buckets\n",
    "Add a new feature 'AgeGroup' with buckets whose values are determined by 'Age'.<br>\n",
    "If Age is 0 to 12, AgeGroup value is Child.<br>\n",
    "If Age is 13 to 18, AgeGroup value is Adolescence, and so as follows:\n",
    "-  0-12: Child\n",
    "- 13-18: Adolescence\n",
    "- 19-45: YoungAdult\n",
    "- 46-60: MiddleAge\n",
    "- \\>60: Senior\n",
    "\n",
    "Hint: Use pandas cut() function where \n",
    "- cut_points are -1, 12, 18, 45, 60, 100\n",
    "- labels are \"Child\", \"Adolescence\", \"YoungAdult\", \"MiddleAge\", \"Senior\"\n",
    "- x is Age, bins is cut_points, labels is labels"
   ]
  },
  {
   "cell_type": "code",
   "execution_count": 343,
   "metadata": {
    "scrolled": true
   },
   "outputs": [
    {
     "data": {
      "text/html": [
       "<div>\n",
       "<style scoped>\n",
       "    .dataframe tbody tr th:only-of-type {\n",
       "        vertical-align: middle;\n",
       "    }\n",
       "\n",
       "    .dataframe tbody tr th {\n",
       "        vertical-align: top;\n",
       "    }\n",
       "\n",
       "    .dataframe thead th {\n",
       "        text-align: right;\n",
       "    }\n",
       "</style>\n",
       "<table border=\"1\" class=\"dataframe\">\n",
       "  <thead>\n",
       "    <tr style=\"text-align: right;\">\n",
       "      <th></th>\n",
       "      <th>PatientID</th>\n",
       "      <th>AppointmentID</th>\n",
       "      <th>Gender</th>\n",
       "      <th>ScheduleDay</th>\n",
       "      <th>AppointmentDay</th>\n",
       "      <th>Age</th>\n",
       "      <th>Neighbourhood</th>\n",
       "      <th>FamilyAllowance</th>\n",
       "      <th>Hypertension</th>\n",
       "      <th>Diabetes</th>\n",
       "      <th>Alcoholism</th>\n",
       "      <th>Handicap</th>\n",
       "      <th>SMSreceived</th>\n",
       "      <th>NoShow</th>\n",
       "      <th>WaitingDays</th>\n",
       "      <th>AppointmentWeekDay</th>\n",
       "      <th>Outlier</th>\n",
       "      <th>AgeGroup</th>\n",
       "    </tr>\n",
       "  </thead>\n",
       "  <tbody>\n",
       "    <tr>\n",
       "      <th>0</th>\n",
       "      <td>29872499824296</td>\n",
       "      <td>5642903</td>\n",
       "      <td>F</td>\n",
       "      <td>2016-04-29 18:38:08+00:00</td>\n",
       "      <td>2016-04-29 00:00:00+00:00</td>\n",
       "      <td>62</td>\n",
       "      <td>JARDIM DA PENHA</td>\n",
       "      <td>False</td>\n",
       "      <td>True</td>\n",
       "      <td>False</td>\n",
       "      <td>False</td>\n",
       "      <td>False</td>\n",
       "      <td>False</td>\n",
       "      <td>True</td>\n",
       "      <td>0</td>\n",
       "      <td>4</td>\n",
       "      <td>False</td>\n",
       "      <td>Senior</td>\n",
       "    </tr>\n",
       "    <tr>\n",
       "      <th>1</th>\n",
       "      <td>558997776694438</td>\n",
       "      <td>5642503</td>\n",
       "      <td>M</td>\n",
       "      <td>2016-04-29 16:08:27+00:00</td>\n",
       "      <td>2016-04-29 00:00:00+00:00</td>\n",
       "      <td>56</td>\n",
       "      <td>JARDIM DA PENHA</td>\n",
       "      <td>False</td>\n",
       "      <td>False</td>\n",
       "      <td>False</td>\n",
       "      <td>False</td>\n",
       "      <td>False</td>\n",
       "      <td>False</td>\n",
       "      <td>True</td>\n",
       "      <td>0</td>\n",
       "      <td>4</td>\n",
       "      <td>False</td>\n",
       "      <td>MiddleAge</td>\n",
       "    </tr>\n",
       "    <tr>\n",
       "      <th>2</th>\n",
       "      <td>2978363769149</td>\n",
       "      <td>5671456</td>\n",
       "      <td>F</td>\n",
       "      <td>2016-05-06 17:10:31+00:00</td>\n",
       "      <td>2016-05-12 00:00:00+00:00</td>\n",
       "      <td>21</td>\n",
       "      <td>JARDIM DA PENHA</td>\n",
       "      <td>False</td>\n",
       "      <td>False</td>\n",
       "      <td>False</td>\n",
       "      <td>False</td>\n",
       "      <td>False</td>\n",
       "      <td>True</td>\n",
       "      <td>True</td>\n",
       "      <td>6</td>\n",
       "      <td>3</td>\n",
       "      <td>False</td>\n",
       "      <td>YoungAdult</td>\n",
       "    </tr>\n",
       "    <tr>\n",
       "      <th>3</th>\n",
       "      <td>6326444238163</td>\n",
       "      <td>5662931</td>\n",
       "      <td>F</td>\n",
       "      <td>2016-05-05 09:14:10+00:00</td>\n",
       "      <td>2016-05-05 00:00:00+00:00</td>\n",
       "      <td>55</td>\n",
       "      <td>JARDIM DA PENHA</td>\n",
       "      <td>False</td>\n",
       "      <td>True</td>\n",
       "      <td>False</td>\n",
       "      <td>False</td>\n",
       "      <td>False</td>\n",
       "      <td>False</td>\n",
       "      <td>True</td>\n",
       "      <td>0</td>\n",
       "      <td>3</td>\n",
       "      <td>False</td>\n",
       "      <td>MiddleAge</td>\n",
       "    </tr>\n",
       "    <tr>\n",
       "      <th>5</th>\n",
       "      <td>848511136446923</td>\n",
       "      <td>5562224</td>\n",
       "      <td>M</td>\n",
       "      <td>2016-04-08 12:56:06+00:00</td>\n",
       "      <td>2016-05-06 00:00:00+00:00</td>\n",
       "      <td>77</td>\n",
       "      <td>JARDIM DA PENHA</td>\n",
       "      <td>False</td>\n",
       "      <td>True</td>\n",
       "      <td>False</td>\n",
       "      <td>True</td>\n",
       "      <td>False</td>\n",
       "      <td>True</td>\n",
       "      <td>True</td>\n",
       "      <td>28</td>\n",
       "      <td>4</td>\n",
       "      <td>False</td>\n",
       "      <td>Senior</td>\n",
       "    </tr>\n",
       "    <tr>\n",
       "      <th>...</th>\n",
       "      <td>...</td>\n",
       "      <td>...</td>\n",
       "      <td>...</td>\n",
       "      <td>...</td>\n",
       "      <td>...</td>\n",
       "      <td>...</td>\n",
       "      <td>...</td>\n",
       "      <td>...</td>\n",
       "      <td>...</td>\n",
       "      <td>...</td>\n",
       "      <td>...</td>\n",
       "      <td>...</td>\n",
       "      <td>...</td>\n",
       "      <td>...</td>\n",
       "      <td>...</td>\n",
       "      <td>...</td>\n",
       "      <td>...</td>\n",
       "      <td>...</td>\n",
       "    </tr>\n",
       "    <tr>\n",
       "      <th>6568</th>\n",
       "      <td>15613117122346</td>\n",
       "      <td>5779070</td>\n",
       "      <td>M</td>\n",
       "      <td>2016-06-06 17:42:01+00:00</td>\n",
       "      <td>2016-06-06 00:00:00+00:00</td>\n",
       "      <td>62</td>\n",
       "      <td>JARDIM CAMBURI</td>\n",
       "      <td>False</td>\n",
       "      <td>False</td>\n",
       "      <td>False</td>\n",
       "      <td>False</td>\n",
       "      <td>False</td>\n",
       "      <td>False</td>\n",
       "      <td>True</td>\n",
       "      <td>0</td>\n",
       "      <td>0</td>\n",
       "      <td>False</td>\n",
       "      <td>Senior</td>\n",
       "    </tr>\n",
       "    <tr>\n",
       "      <th>6569</th>\n",
       "      <td>19314223565</td>\n",
       "      <td>5767006</td>\n",
       "      <td>F</td>\n",
       "      <td>2016-06-02 16:13:58+00:00</td>\n",
       "      <td>2016-06-07 00:00:00+00:00</td>\n",
       "      <td>55</td>\n",
       "      <td>JARDIM CAMBURI</td>\n",
       "      <td>False</td>\n",
       "      <td>False</td>\n",
       "      <td>False</td>\n",
       "      <td>False</td>\n",
       "      <td>False</td>\n",
       "      <td>True</td>\n",
       "      <td>True</td>\n",
       "      <td>5</td>\n",
       "      <td>1</td>\n",
       "      <td>False</td>\n",
       "      <td>MiddleAge</td>\n",
       "    </tr>\n",
       "    <tr>\n",
       "      <th>6570</th>\n",
       "      <td>5965757389437</td>\n",
       "      <td>5771390</td>\n",
       "      <td>F</td>\n",
       "      <td>2016-06-03 12:45:35+00:00</td>\n",
       "      <td>2016-06-07 00:00:00+00:00</td>\n",
       "      <td>56</td>\n",
       "      <td>JARDIM CAMBURI</td>\n",
       "      <td>False</td>\n",
       "      <td>False</td>\n",
       "      <td>False</td>\n",
       "      <td>False</td>\n",
       "      <td>False</td>\n",
       "      <td>True</td>\n",
       "      <td>True</td>\n",
       "      <td>4</td>\n",
       "      <td>1</td>\n",
       "      <td>False</td>\n",
       "      <td>MiddleAge</td>\n",
       "    </tr>\n",
       "    <tr>\n",
       "      <th>6571</th>\n",
       "      <td>7825443833792</td>\n",
       "      <td>5767544</td>\n",
       "      <td>F</td>\n",
       "      <td>2016-06-02 18:32:06+00:00</td>\n",
       "      <td>2016-06-07 00:00:00+00:00</td>\n",
       "      <td>60</td>\n",
       "      <td>JARDIM CAMBURI</td>\n",
       "      <td>False</td>\n",
       "      <td>False</td>\n",
       "      <td>False</td>\n",
       "      <td>False</td>\n",
       "      <td>False</td>\n",
       "      <td>True</td>\n",
       "      <td>True</td>\n",
       "      <td>5</td>\n",
       "      <td>1</td>\n",
       "      <td>False</td>\n",
       "      <td>MiddleAge</td>\n",
       "    </tr>\n",
       "    <tr>\n",
       "      <th>6572</th>\n",
       "      <td>598674846832672</td>\n",
       "      <td>5770793</td>\n",
       "      <td>M</td>\n",
       "      <td>2016-06-03 10:57:50+00:00</td>\n",
       "      <td>2016-06-07 00:00:00+00:00</td>\n",
       "      <td>44</td>\n",
       "      <td>JARDIM CAMBURI</td>\n",
       "      <td>False</td>\n",
       "      <td>False</td>\n",
       "      <td>False</td>\n",
       "      <td>False</td>\n",
       "      <td>False</td>\n",
       "      <td>True</td>\n",
       "      <td>True</td>\n",
       "      <td>4</td>\n",
       "      <td>1</td>\n",
       "      <td>False</td>\n",
       "      <td>YoungAdult</td>\n",
       "    </tr>\n",
       "  </tbody>\n",
       "</table>\n",
       "<p>6450 rows × 18 columns</p>\n",
       "</div>"
      ],
      "text/plain": [
       "            PatientID  AppointmentID Gender               ScheduleDay  \\\n",
       "0      29872499824296        5642903      F 2016-04-29 18:38:08+00:00   \n",
       "1     558997776694438        5642503      M 2016-04-29 16:08:27+00:00   \n",
       "2       2978363769149        5671456      F 2016-05-06 17:10:31+00:00   \n",
       "3       6326444238163        5662931      F 2016-05-05 09:14:10+00:00   \n",
       "5     848511136446923        5562224      M 2016-04-08 12:56:06+00:00   \n",
       "...               ...            ...    ...                       ...   \n",
       "6568   15613117122346        5779070      M 2016-06-06 17:42:01+00:00   \n",
       "6569      19314223565        5767006      F 2016-06-02 16:13:58+00:00   \n",
       "6570    5965757389437        5771390      F 2016-06-03 12:45:35+00:00   \n",
       "6571    7825443833792        5767544      F 2016-06-02 18:32:06+00:00   \n",
       "6572  598674846832672        5770793      M 2016-06-03 10:57:50+00:00   \n",
       "\n",
       "                AppointmentDay  Age    Neighbourhood  FamilyAllowance  \\\n",
       "0    2016-04-29 00:00:00+00:00   62  JARDIM DA PENHA            False   \n",
       "1    2016-04-29 00:00:00+00:00   56  JARDIM DA PENHA            False   \n",
       "2    2016-05-12 00:00:00+00:00   21  JARDIM DA PENHA            False   \n",
       "3    2016-05-05 00:00:00+00:00   55  JARDIM DA PENHA            False   \n",
       "5    2016-05-06 00:00:00+00:00   77  JARDIM DA PENHA            False   \n",
       "...                        ...  ...              ...              ...   \n",
       "6568 2016-06-06 00:00:00+00:00   62   JARDIM CAMBURI            False   \n",
       "6569 2016-06-07 00:00:00+00:00   55   JARDIM CAMBURI            False   \n",
       "6570 2016-06-07 00:00:00+00:00   56   JARDIM CAMBURI            False   \n",
       "6571 2016-06-07 00:00:00+00:00   60   JARDIM CAMBURI            False   \n",
       "6572 2016-06-07 00:00:00+00:00   44   JARDIM CAMBURI            False   \n",
       "\n",
       "      Hypertension  Diabetes  Alcoholism  Handicap  SMSreceived  NoShow  \\\n",
       "0             True     False       False     False        False    True   \n",
       "1            False     False       False     False        False    True   \n",
       "2            False     False       False     False         True    True   \n",
       "3             True     False       False     False        False    True   \n",
       "5             True     False        True     False         True    True   \n",
       "...            ...       ...         ...       ...          ...     ...   \n",
       "6568         False     False       False     False        False    True   \n",
       "6569         False     False       False     False         True    True   \n",
       "6570         False     False       False     False         True    True   \n",
       "6571         False     False       False     False         True    True   \n",
       "6572         False     False       False     False         True    True   \n",
       "\n",
       "      WaitingDays  AppointmentWeekDay  Outlier    AgeGroup  \n",
       "0               0                   4    False      Senior  \n",
       "1               0                   4    False   MiddleAge  \n",
       "2               6                   3    False  YoungAdult  \n",
       "3               0                   3    False   MiddleAge  \n",
       "5              28                   4    False      Senior  \n",
       "...           ...                 ...      ...         ...  \n",
       "6568            0                   0    False      Senior  \n",
       "6569            5                   1    False   MiddleAge  \n",
       "6570            4                   1    False   MiddleAge  \n",
       "6571            5                   1    False   MiddleAge  \n",
       "6572            4                   1    False  YoungAdult  \n",
       "\n",
       "[6450 rows x 18 columns]"
      ]
     },
     "execution_count": 343,
     "metadata": {},
     "output_type": "execute_result"
    }
   ],
   "source": [
    "# Add a new feature 'AgeGroup' \n",
    "# Write code here\n",
    "\n",
    "cut_points = [-1, 12, 18, 45, 60, 100]\n",
    "labels = ['Child', 'Adolescence', 'YoungAdult', 'MiddleAge', 'Senior']\n",
    "df['AgeGroup'] = pd.cut(df['Age'], cut_points, labels=labels)\n",
    "\n",
    "\n",
    "df"
   ]
  },
  {
   "cell_type": "markdown",
   "metadata": {},
   "source": [
    "**Observations**\n",
    "-  0-12: Child\n",
    "- 13-18: Adolescence\n",
    "- 19-45: YoungAdult\n",
    "- 46-60: MiddleAge\n",
    "- \\>60: Senior"
   ]
  },
  {
   "cell_type": "markdown",
   "metadata": {},
   "source": [
    "# Save Data File"
   ]
  },
  {
   "cell_type": "code",
   "execution_count": 344,
   "metadata": {},
   "outputs": [],
   "source": [
    "# To keep data format unchanged every time we open the excel file, it is better to save it as '.xlsx'\n",
    "for col in df.select_dtypes(['datetimetz']).columns:\n",
    "    df[col] = df[col].dt.tz_convert(None)\n",
    "\n",
    "outpath = './data/appointments/appointments-out.xlsx'\n",
    "df.to_excel(outpath, index=False, header=True)"
   ]
  }
 ],
 "metadata": {
  "anaconda-cloud": {},
  "kernelspec": {
   "display_name": "Python 3 (ipykernel)",
   "language": "python",
   "name": "python3"
  },
  "language_info": {
   "codemirror_mode": {
    "name": "ipython",
    "version": 3
   },
   "file_extension": ".py",
   "mimetype": "text/x-python",
   "name": "python",
   "nbconvert_exporter": "python",
   "pygments_lexer": "ipython3",
   "version": "3.9.13"
  }
 },
 "nbformat": 4,
 "nbformat_minor": 1
}
