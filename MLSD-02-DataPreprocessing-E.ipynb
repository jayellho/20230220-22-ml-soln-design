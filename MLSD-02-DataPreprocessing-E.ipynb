{
 "cells": [
  {
   "cell_type": "markdown",
   "metadata": {},
   "source": [
    "<center>\n",
    "  <a href=\"MLSD-02-DataPreprocessing-D.ipynb\" target=\"_self\">Data Preprocessing D</a> | <a href=\"./\">Content Page</a> | <a href=\"MLSD-02-DataPreprocessing-Ex-1.ipynb\">Data Preprocessing Exercise</a>\n",
    "</center>"
   ]
  },
  {
   "cell_type": "markdown",
   "metadata": {},
   "source": [
    "# <center>DATA PREPROCESSING E</center>\n",
    "\n",
    "<center><b>Copyright &copy 2023 by DR DANNY POO</b><br> e:dannypoo@nus.edu.sg<br> w:drdannypoo.com</center><br>"
   ]
  },
  {
   "cell_type": "markdown",
   "metadata": {},
   "source": [
    "# Data Preprocessing\n",
    "<b>Dataset</b>: Loan Prediction data set.<br>\n",
    "<b>Tasks</b>: \n",
    "- To read in and explore data set.\n",
    "- To rescale features.\n",
    "- To standardize features. "
   ]
  },
  {
   "cell_type": "markdown",
   "metadata": {},
   "source": [
    "## Read in and Explore Data Set"
   ]
  },
  {
   "cell_type": "code",
   "execution_count": null,
   "metadata": {},
   "outputs": [],
   "source": [
    "# Import libraries\n",
    "import pandas as pd"
   ]
  },
  {
   "cell_type": "code",
   "execution_count": null,
   "metadata": {
    "scrolled": true
   },
   "outputs": [],
   "source": [
    "# Read in data\n",
    "X_train = pd.read_csv('./data/loanPrediction/X_train.csv')\n",
    "y_train = pd.read_csv('./data/loanPrediction/y_train.csv')\n",
    "X_test = pd.read_csv('./data/loanPrediction/X_test.csv')\n",
    "y_test = pd.read_csv('./data/loanPrediction/y_test.csv')"
   ]
  },
  {
   "cell_type": "code",
   "execution_count": null,
   "metadata": {},
   "outputs": [],
   "source": [
    "# Print first 5 rows\n",
    "X_train.head()"
   ]
  },
  {
   "cell_type": "code",
   "execution_count": null,
   "metadata": {},
   "outputs": [],
   "source": [
    "y_train"
   ]
  },
  {
   "cell_type": "code",
   "execution_count": null,
   "metadata": {},
   "outputs": [],
   "source": [
    "# Visualize histograms of columns with float64 or int64 data\n",
    "import matplotlib.pyplot as plt\n",
    "X_train[X_train.dtypes[(X_train.dtypes==\"float64\")|(X_train.dtypes==\"int64\")]\n",
    "                        .index.values].hist(figsize=[11,11])"
   ]
  },
  {
   "cell_type": "markdown",
   "metadata": {},
   "source": [
    "**Observations**:\n",
    "- ApplicantIncome and CoapplicantIncome are in similar range (0-50000 dollars) \n",
    "- LoanAmount is in thousands and it ranges from 0 to 600.\n",
    "- Loan_Amount_Term is completely different from other variables because its unit is months as opposed to other variables where the unit is dollars.\n",
    "- If we try to apply distance based methods such as kNN on these features, feature with the largest range will dominate the outcome results and we’ll obtain less accurate predictions. \n",
    "- To overcome this, use feature scaling."
   ]
  },
  {
   "cell_type": "markdown",
   "metadata": {},
   "source": [
    "## Rescale Features"
   ]
  },
  {
   "cell_type": "markdown",
   "metadata": {},
   "source": [
    "### Using k Nearest Neighbors Classifier"
   ]
  },
  {
   "cell_type": "code",
   "execution_count": null,
   "metadata": {},
   "outputs": [],
   "source": [
    "# Fitting k-NN on our scaled data set\n",
    "from sklearn.neighbors import KNeighborsClassifier\n",
    "from sklearn.metrics import accuracy_score\n",
    "\n",
    "knn=KNeighborsClassifier(n_neighbors=5)\n",
    "X_train_limited = X_train[['ApplicantIncome', 'CoapplicantIncome',\n",
    "                'LoanAmount', 'Loan_Amount_Term', 'Credit_History']]\n",
    "X_test_limited = X_test[['ApplicantIncome', 'CoapplicantIncome',\n",
    "                'LoanAmount', 'Loan_Amount_Term', 'Credit_History']]\n",
    "y_train = y_train['Target'].values # convert y_train from a column vector to a 1d array\n",
    "knn.fit(X_train_limited,y_train)\n",
    "\n",
    "# Checking the model's accuracy\n",
    "accuracy_score(y_test,knn.predict(X_test_limited))"
   ]
  },
  {
   "cell_type": "code",
   "execution_count": null,
   "metadata": {},
   "outputs": [],
   "source": [
    "# Importing MinMaxScaler and initializing it\n",
    "from sklearn.preprocessing import MinMaxScaler\n",
    "min_max=MinMaxScaler()\n",
    "\n",
    "# Scaling down both train and test data set\n",
    "X_train_minmax=min_max.fit_transform(X_train[['ApplicantIncome', 'CoapplicantIncome',\n",
    "                'LoanAmount', 'Loan_Amount_Term', 'Credit_History']])\n",
    "X_test_minmax=min_max.fit_transform(X_test[['ApplicantIncome', 'CoapplicantIncome',\n",
    "                'LoanAmount', 'Loan_Amount_Term', 'Credit_History']])"
   ]
  },
  {
   "cell_type": "code",
   "execution_count": null,
   "metadata": {},
   "outputs": [],
   "source": [
    "# Fitting k-NN on our scaled data set\n",
    "knn=KNeighborsClassifier(n_neighbors=5)\n",
    "knn.fit(X_train_minmax,y_train)\n",
    "\n",
    "# Checking the model's accuracy\n",
    "accuracy_score(y_test,knn.predict(X_test_minmax))"
   ]
  },
  {
   "cell_type": "markdown",
   "metadata": {},
   "source": [
    "**Observations**:\n",
    "- The accuracy has increased from 61% to 75%.\n",
    "- This means that some of the features with larger range were dominating the prediction outcome in the domain of the distance-based methods (e.g. kNN)."
   ]
  },
  {
   "cell_type": "markdown",
   "metadata": {},
   "source": [
    "### Using Logistic Regression Classifier"
   ]
  },
  {
   "cell_type": "code",
   "execution_count": null,
   "metadata": {},
   "outputs": [],
   "source": [
    "# Fitting logistic regression on data set\n",
    "from sklearn.linear_model import LogisticRegression\n",
    "from sklearn.metrics import accuracy_score\n",
    "\n",
    "log = LogisticRegression(penalty='l2',C=.01)\n",
    "log.fit(X_train_limited,y_train)\n",
    "\n",
    "# Checking the model's accuracy\n",
    "accuracy_score(y_test,log.predict(X_test_limited))"
   ]
  },
  {
   "cell_type": "code",
   "execution_count": null,
   "metadata": {},
   "outputs": [],
   "source": [
    "# Importing MinMaxScaler and initializing it\n",
    "from sklearn.preprocessing import MinMaxScaler\n",
    "min_max = MinMaxScaler()\n",
    "\n",
    "# Scaling down both train and test data set\n",
    "X_train_minmax=min_max.fit_transform(X_train[['ApplicantIncome', 'CoapplicantIncome',\n",
    "                'LoanAmount', 'Loan_Amount_Term', 'Credit_History']])\n",
    "X_test_minmax=min_max.fit_transform(X_test[['ApplicantIncome', 'CoapplicantIncome',\n",
    "                'LoanAmount', 'Loan_Amount_Term', 'Credit_History']])"
   ]
  },
  {
   "cell_type": "code",
   "execution_count": null,
   "metadata": {},
   "outputs": [],
   "source": [
    "# Fitting logistic regression on data set\n",
    "log = LogisticRegression(penalty='l2',C=.01)\n",
    "log.fit(X_train_minmax,y_train)\n",
    "\n",
    "# Checking the model's accuracy\n",
    "accuracy_score(y_test,log.predict(X_test_minmax))"
   ]
  },
  {
   "cell_type": "markdown",
   "metadata": {},
   "source": [
    "**Observations**:\n",
    "- The accuracy has increased from 61% to 63%.\n",
    "- Not an impressive achievement.\n",
    "- In logistic regression, each feature is assigned a weight or coefficient (Wi). If there is a feature with relatively large range and it is insignificant in the objective function then logistic regression will itself assign a very low value to its co-efficient, thus neutralizing the dominant effect of that particular feature, whereas distance based method such as kNN does not have this inbuilt strategy, thus it requires scaling.\n",
    "- To improve the logistic regression, use feature standardization."
   ]
  },
  {
   "cell_type": "markdown",
   "metadata": {},
   "source": [
    "## Standardize Features"
   ]
  },
  {
   "cell_type": "markdown",
   "metadata": {},
   "source": [
    "### Using Logistic Regression Classifier"
   ]
  },
  {
   "cell_type": "code",
   "execution_count": null,
   "metadata": {},
   "outputs": [],
   "source": [
    "# Standardizing the train and test data\n",
    "from sklearn.preprocessing import StandardScaler\n",
    "\n",
    "# Standardize X using StandardScaler\n",
    "scaler = StandardScaler().fit(X_train[['ApplicantIncome', 'CoapplicantIncome',\n",
    "                'LoanAmount', 'Loan_Amount_Term', 'Credit_History']])\n",
    "rescaledX_train = scaler.transform(X_train[['ApplicantIncome', 'CoapplicantIncome',\n",
    "                'LoanAmount', 'Loan_Amount_Term', 'Credit_History']])\n",
    "rescaledX_test = scaler.transform(X_test[['ApplicantIncome', 'CoapplicantIncome',\n",
    "                'LoanAmount', 'Loan_Amount_Term', 'Credit_History']])\n",
    "\n",
    "# Fitting logistic regression on our standardized data set\n",
    "from sklearn.linear_model import LogisticRegression\n",
    "log=LogisticRegression(penalty='l2',C=.01)\n",
    "log.fit(rescaledX_train,y_train)\n",
    "\n",
    "# Checking the model's accuracy\n",
    "accuracy_score(y_test,log.predict(rescaledX_test))"
   ]
  },
  {
   "cell_type": "markdown",
   "metadata": {},
   "source": [
    "**Observations**:\n",
    "- The accuracy has increased from 61% to 75%.\n",
    "- This means standardizing the data when using a estimator having L1 or L2 regularization helps us to increase the accuracy of the prediction model. \n",
    "- Other learners like kNN with euclidean distance measure, k-means, SVM, perceptron, neural networks, linear discriminant analysis, principal component analysis may perform better with standardized data."
   ]
  },
  {
   "cell_type": "markdown",
   "metadata": {},
   "source": [
    "<center>\n",
    "  <a href=\"MLSD-02-DataPreprocessing-D.ipynb\" target=\"_self\">Data Preprocessing D</a> | <a href=\"./\">Content Page</a> | <a href=\"MLSD-02-DataPreprocessing-Ex-1.ipynb\">Data Preprocessing Exercise</a>\n",
    "</center>"
   ]
  }
 ],
 "metadata": {
  "anaconda-cloud": {},
  "kernelspec": {
   "display_name": "Python 3 (ipykernel)",
   "language": "python",
   "name": "python3"
  },
  "language_info": {
   "codemirror_mode": {
    "name": "ipython",
    "version": 3
   },
   "file_extension": ".py",
   "mimetype": "text/x-python",
   "name": "python",
   "nbconvert_exporter": "python",
   "pygments_lexer": "ipython3",
   "version": "3.9.13"
  }
 },
 "nbformat": 4,
 "nbformat_minor": 1
}
