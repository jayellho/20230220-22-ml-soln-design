{
 "cells": [
  {
   "cell_type": "markdown",
   "metadata": {},
   "source": [
    "<center>\n",
    "  <a href=\"./\">Content Page</a> | <a href=\"MLSD-02-DataPreprocessing-A.ipynb\">Data Preprocessing A</a>\n",
    "</center>"
   ]
  },
  {
   "cell_type": "markdown",
   "metadata": {},
   "source": [
    "# <center>MACHINE LEARNING SOLUTION DESIGN<BR><BR>GETTING STARTED</center>\n",
    "\n",
    "<center><b>Copyright &copy 2023 by DR DANNY POO</b><br> e:dannypoo@nus.edu.sg<br> w:drdannypoo.com</center><br>"
   ]
  },
  {
   "cell_type": "markdown",
   "metadata": {},
   "source": [
    "# 1. Jupyter Notebook\n"
   ]
  },
  {
   "cell_type": "markdown",
   "metadata": {},
   "source": [
    "We will use the Jupyter notebook as our primary interface to running Python code in this course.\n",
    "\n",
    "A useful hybrid of the interactive terminal and the self-contained script is the *Jupyter Notebook*, a document format that allows executable code, formatted text, graphics, and even interactive features to be combined into a single document.\n",
    "Though the notebook began as a Python-only format, it has since been made compatible with a large number of programming languages, and is now an essential part of the [*Jupyter Project*](https://jupyter.org/).\n",
    "The notebook is useful both as a development environment, and as a means of sharing work via rich computational and data-driven narratives that mix together code, figures, data, and text."
   ]
  },
  {
   "cell_type": "markdown",
   "metadata": {},
   "source": [
    "# 2. Updating and Installing Packages"
   ]
  },
  {
   "cell_type": "markdown",
   "metadata": {},
   "source": [
    "## 2.1 Updating Anaconda\n",
    "\n",
    "The Anaconda Command Prompt runs a Command terminal with your current base (root) environment. \n",
    "It is needed to update or import packages into Anaconda. Need to run as administrator in Windows environment.\n",
    "```\n",
    "C:\\Users\\danny>conda update anaconda\n",
    "```\n",
    "\n",
    "## 2.2 Installing Packages\n",
    "Install any required packages via the Anaconda Command Prompt with your current base (root) environment. \n",
    "May need to run as administrator in Windows environment.\n",
    "```\n",
    "C:\\Users\\danny>conda install <package-name>\n",
    "\n",
    "or\n",
    "   \n",
    "C:\\Users\\danny>pip install <package-name>\n",
    "```"
   ]
  },
  {
   "cell_type": "markdown",
   "metadata": {
    "collapsed": true
   },
   "source": [
    "<center>\n",
    "  <a href=\"./\">Content Page</a> | <a href=\"MLSD-02-DataPreprocessing-A.ipynb\">Data Preprocessing A</a>\n",
    "</center>"
   ]
  }
 ],
 "metadata": {
  "kernelspec": {
   "display_name": "Python 3 (ipykernel)",
   "language": "python",
   "name": "python3"
  },
  "language_info": {
   "codemirror_mode": {
    "name": "ipython",
    "version": 3
   },
   "file_extension": ".py",
   "mimetype": "text/x-python",
   "name": "python",
   "nbconvert_exporter": "python",
   "pygments_lexer": "ipython3",
   "version": "3.9.13"
  }
 },
 "nbformat": 4,
 "nbformat_minor": 2
}
