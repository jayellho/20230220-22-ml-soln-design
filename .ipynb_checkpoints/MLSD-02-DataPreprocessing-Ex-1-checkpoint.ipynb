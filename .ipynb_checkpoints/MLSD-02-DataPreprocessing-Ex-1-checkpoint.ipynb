{
 "cells": [
  {
   "cell_type": "markdown",
   "metadata": {},
   "source": [
    "<center>\n",
    "  <a href=\"MLSD-02-DataPreprocessing-E.ipynb\" target=\"_self\">Data Preprocessing E</a> | <a href=\"./\">Content Page</a> | <a href=\"MLSD-03-DetectingAnomalies-A.ipynb\">Detecting Anomalies A</a>\n",
    "</center>"
   ]
  },
  {
   "cell_type": "markdown",
   "metadata": {},
   "source": [
    "# <center>DATA PREPROCESSING: EXERCISE 1</center>\n",
    "\n",
    "<center><b>Copyright &copy 2023 by DR DANNY POO</b><br> e:dannypoo@nus.edu.sg<br> w:drdannypoo.com</center><br>"
   ]
  },
  {
   "cell_type": "markdown",
   "metadata": {},
   "source": [
    "# Graduate Dataset\n",
    "<b>Dataset</b>: Graduate data set.<br>\n",
    "<b>Tasks</b>: \n",
    "- To read in and explore data set.\n",
    "- To fill missing data with mean values.\n",
    "- To encode all categorical labels to column vectors with binary values.\n",
    "- To split dataset.\n",
    "- To rescale features."
   ]
  },
  {
   "cell_type": "markdown",
   "metadata": {},
   "source": [
    "## Read in and Explore Data Set"
   ]
  },
  {
   "cell_type": "code",
   "execution_count": 1,
   "metadata": {},
   "outputs": [],
   "source": [
    "# Import libraries\n",
    "# Write code here\n",
    "\n",
    "import numpy as np\n",
    "import pandas as pd\n",
    "from sklearn.preprocessing import MinMaxScaler\n"
   ]
  },
  {
   "cell_type": "code",
   "execution_count": 2,
   "metadata": {
    "scrolled": true
   },
   "outputs": [],
   "source": [
    "# Read in data\n",
    "df = pd.read_csv('./data/graduate/data.csv')"
   ]
  },
  {
   "cell_type": "code",
   "execution_count": 3,
   "metadata": {},
   "outputs": [
    {
     "name": "stdout",
     "output_type": "stream",
     "text": [
      "<class 'pandas.core.frame.DataFrame'>\n",
      "RangeIndex: 6 entries, 0 to 5\n",
      "Data columns (total 3 columns):\n",
      " #   Column    Non-Null Count  Dtype  \n",
      "---  ------    --------------  -----  \n",
      " 0   Age       5 non-null      float64\n",
      " 1   Income    5 non-null      float64\n",
      " 2   Graduate  6 non-null      object \n",
      "dtypes: float64(2), object(1)\n",
      "memory usage: 272.0+ bytes\n"
     ]
    }
   ],
   "source": [
    "# Examine data format\n",
    "# Write code here\n",
    "\n"
   ]
  },
  {
   "cell_type": "code",
   "execution_count": 4,
   "metadata": {},
   "outputs": [
    {
     "data": {
      "text/html": [
       "<div>\n",
       "<style scoped>\n",
       "    .dataframe tbody tr th:only-of-type {\n",
       "        vertical-align: middle;\n",
       "    }\n",
       "\n",
       "    .dataframe tbody tr th {\n",
       "        vertical-align: top;\n",
       "    }\n",
       "\n",
       "    .dataframe thead th {\n",
       "        text-align: right;\n",
       "    }\n",
       "</style>\n",
       "<table border=\"1\" class=\"dataframe\">\n",
       "  <thead>\n",
       "    <tr style=\"text-align: right;\">\n",
       "      <th></th>\n",
       "      <th>Age</th>\n",
       "      <th>Income</th>\n",
       "      <th>Graduate</th>\n",
       "    </tr>\n",
       "  </thead>\n",
       "  <tbody>\n",
       "    <tr>\n",
       "      <th>0</th>\n",
       "      <td>24.0</td>\n",
       "      <td>35000.0</td>\n",
       "      <td>no</td>\n",
       "    </tr>\n",
       "    <tr>\n",
       "      <th>1</th>\n",
       "      <td>26.0</td>\n",
       "      <td>48000.0</td>\n",
       "      <td>no</td>\n",
       "    </tr>\n",
       "    <tr>\n",
       "      <th>2</th>\n",
       "      <td>NaN</td>\n",
       "      <td>54000.0</td>\n",
       "      <td>yes</td>\n",
       "    </tr>\n",
       "    <tr>\n",
       "      <th>3</th>\n",
       "      <td>40.0</td>\n",
       "      <td>61000.0</td>\n",
       "      <td>yes</td>\n",
       "    </tr>\n",
       "    <tr>\n",
       "      <th>4</th>\n",
       "      <td>50.0</td>\n",
       "      <td>NaN</td>\n",
       "      <td>no</td>\n",
       "    </tr>\n",
       "  </tbody>\n",
       "</table>\n",
       "</div>"
      ],
      "text/plain": [
       "    Age   Income Graduate\n",
       "0  24.0  35000.0       no\n",
       "1  26.0  48000.0       no\n",
       "2   NaN  54000.0      yes\n",
       "3  40.0  61000.0      yes\n",
       "4  50.0      NaN       no"
      ]
     },
     "execution_count": 4,
     "metadata": {},
     "output_type": "execute_result"
    }
   ],
   "source": [
    "# Print first 5 rows\n",
    "# Write code here\n",
    "\n",
    "\n"
   ]
  },
  {
   "cell_type": "code",
   "execution_count": 5,
   "metadata": {},
   "outputs": [],
   "source": [
    "# Prepare X and y\n",
    "# Write code here\n",
    "\n",
    "\n"
   ]
  },
  {
   "cell_type": "code",
   "execution_count": 6,
   "metadata": {},
   "outputs": [
    {
     "name": "stdout",
     "output_type": "stream",
     "text": [
      "[[2.4e+01 3.5e+04]\n",
      " [2.6e+01 4.8e+04]\n",
      " [    nan 5.4e+04]\n",
      " [4.0e+01 6.1e+04]\n",
      " [5.0e+01     nan]\n",
      " [3.5e+01 5.0e+04]]\n"
     ]
    }
   ],
   "source": [
    "# Print X\n",
    "print(X)"
   ]
  },
  {
   "cell_type": "code",
   "execution_count": 7,
   "metadata": {},
   "outputs": [
    {
     "name": "stdout",
     "output_type": "stream",
     "text": [
      "['no' 'no' 'yes' 'yes' 'no' 'yes']\n"
     ]
    }
   ],
   "source": [
    "# Print y\n",
    "print(y)"
   ]
  },
  {
   "cell_type": "markdown",
   "metadata": {},
   "source": [
    "## Fill Missing Data with Mean Values"
   ]
  },
  {
   "cell_type": "code",
   "execution_count": 8,
   "metadata": {},
   "outputs": [
    {
     "name": "stdout",
     "output_type": "stream",
     "text": [
      "[[2.40e+01 3.50e+04]\n",
      " [2.60e+01 4.80e+04]\n",
      " [3.50e+01 5.40e+04]\n",
      " [4.00e+01 6.10e+04]\n",
      " [5.00e+01 4.96e+04]\n",
      " [3.50e+01 5.00e+04]]\n"
     ]
    }
   ],
   "source": [
    "# Import class SimpleImputer from impute model in sklearn\n",
    "# Write code here\n",
    "\n",
    "\n",
    "\n",
    "# Create object of SimpleImputer class\n",
    "# Write code here\n",
    "\n",
    "\n",
    "\n",
    "\n",
    "# Replace the missing value using transform method\n",
    "# Write code here\n",
    "\n",
    "\n",
    "\n",
    "print(X)"
   ]
  },
  {
   "cell_type": "markdown",
   "metadata": {},
   "source": [
    "**Observations**:\n",
    "- Empty cells are now replaced with the mean of the column values."
   ]
  },
  {
   "cell_type": "markdown",
   "metadata": {},
   "source": [
    "## Encode Categorical Values"
   ]
  },
  {
   "cell_type": "code",
   "execution_count": 9,
   "metadata": {},
   "outputs": [
    {
     "name": "stdout",
     "output_type": "stream",
     "text": [
      "[0 0 1 1 0 1]\n"
     ]
    }
   ],
   "source": [
    "# Encode dependent variable y\n",
    "# Write code here\n",
    "\n",
    "\n",
    "\n",
    "\n",
    "\n",
    "\n",
    "print(y)"
   ]
  },
  {
   "cell_type": "markdown",
   "metadata": {},
   "source": [
    "## Split Dataset into Training and Test Sets"
   ]
  },
  {
   "cell_type": "code",
   "execution_count": 10,
   "metadata": {},
   "outputs": [],
   "source": [
    "# Import libraries\n",
    "# Write code here\n",
    "\n",
    "\n",
    "\n",
    "# Split dataset\n",
    "# Write code here\n",
    "\n",
    "\n"
   ]
  },
  {
   "cell_type": "code",
   "execution_count": 11,
   "metadata": {},
   "outputs": [
    {
     "name": "stdout",
     "output_type": "stream",
     "text": [
      "\n",
      "X_train\n",
      " [[5.00e+01 4.96e+04]\n",
      " [2.40e+01 3.50e+04]\n",
      " [4.00e+01 6.10e+04]\n",
      " [3.50e+01 5.00e+04]]\n",
      "\n",
      "X_test\n",
      " [[3.5e+01 5.4e+04]\n",
      " [2.6e+01 4.8e+04]]\n",
      "\n",
      "y_train\n",
      " [0 0 1 1]\n",
      "\n",
      "y_test\n",
      " [1 0]\n"
     ]
    }
   ],
   "source": [
    "# Print\n",
    "print(\"\\nX_train\\n\", X_train)\n",
    "print(\"\\nX_test\\n\", X_test)\n",
    "print(\"\\ny_train\\n\", y_train)\n",
    "print(\"\\ny_test\\n\", y_test)"
   ]
  },
  {
   "cell_type": "markdown",
   "metadata": {},
   "source": [
    "## Rescale Features"
   ]
  },
  {
   "cell_type": "code",
   "execution_count": 12,
   "metadata": {},
   "outputs": [],
   "source": [
    "# Import libraries\n",
    "# Write code here\n",
    "\n",
    "\n"
   ]
  },
  {
   "cell_type": "code",
   "execution_count": 13,
   "metadata": {},
   "outputs": [],
   "source": [
    "# Rescale X\n",
    "# Write code here\n",
    "\n",
    "\n",
    "\n"
   ]
  },
  {
   "cell_type": "code",
   "execution_count": 14,
   "metadata": {},
   "outputs": [
    {
     "name": "stdout",
     "output_type": "stream",
     "text": [
      "[[-1.267 -1.871]\n",
      " [-1.037 -0.205]\n",
      " [ 0.     0.564]\n",
      " [ 0.576  1.461]\n",
      " [ 1.728  0.   ]\n",
      " [ 0.     0.051]]\n"
     ]
    }
   ],
   "source": [
    "# Summarize transformed data\n",
    "# Write code here\n",
    "\n",
    "\n",
    "\n",
    "print(rescaledX[:,:])"
   ]
  },
  {
   "cell_type": "markdown",
   "metadata": {},
   "source": [
    "**Observations**:\n",
    "- It does not matter whether to scale encoded categorical data.\n",
    "- It is up to you."
   ]
  },
  {
   "cell_type": "markdown",
   "metadata": {},
   "source": [
    "<center>\n",
    "  <a href=\"MLSD-02-DataPreprocessing-E.ipynb\" target=\"_self\">Data Preprocessing E</a> | <a href=\"./\">Content Page</a> | <a href=\"MLSD-03-DetectingAnomalies-A.ipynb\">Detecting Anomalies A</a>\n",
    "</center>"
   ]
  }
 ],
 "metadata": {
  "anaconda-cloud": {},
  "kernelspec": {
   "display_name": "Python 3 (ipykernel)",
   "language": "python",
   "name": "python3"
  },
  "language_info": {
   "codemirror_mode": {
    "name": "ipython",
    "version": 3
   },
   "file_extension": ".py",
   "mimetype": "text/x-python",
   "name": "python",
   "nbconvert_exporter": "python",
   "pygments_lexer": "ipython3",
   "version": "3.9.13"
  }
 },
 "nbformat": 4,
 "nbformat_minor": 1
}
