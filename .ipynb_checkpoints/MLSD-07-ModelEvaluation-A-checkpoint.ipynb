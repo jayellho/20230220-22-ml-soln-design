{
 "cells": [
  {
   "cell_type": "markdown",
   "metadata": {},
   "source": [
    "<center>\n",
    "  <a href=\"MLSD-06-MachineLearningErrors-A.ipynb\" target=\"_self\">Machine Learning Errors A</a> | <a href=\"./\">Content Page</a> | <a href=\"MLSD-07-ModelEvaluation-Ex-1.ipynb\">Model Evaluation Exercise 1</a>\n",
    "</center>"
   ]
  },
  {
   "cell_type": "markdown",
   "metadata": {},
   "source": [
    "# <center>MODEL EVALUATION A</center>\n",
    "\n",
    "<center><b>Copyright &copy 2023 by DR DANNY POO</b><br> e:dannypoo@nus.edu.sg<br> w:drdannypoo.com</center><br>"
   ]
  },
  {
   "cell_type": "markdown",
   "metadata": {},
   "source": [
    "# Why?\n",
    "Machine Learning models are evaluated to determine if they are performing to an acceptable level. The chosen metrics to evaluate the machine learning models are very important.\n",
    "The choice of metrics influences how the performance of machine learning algorithms is measured and compared. Ultimately, they influence how you weight the importance of different characteristics in the results and your choice of which algorithm to choose."
   ]
  },
  {
   "cell_type": "markdown",
   "metadata": {},
   "source": [
    "# Metrics\n",
    "The metrics include:\n",
    "- <b>Classification metrics</b>: Accuracy, Logistic Loss (Log Loss), Area Under ROC Curve (AUC).\n",
    "- <b>Classification Prediction Results Reporting</b>: Confusion Matrix and Classification Report.\n",
    "- <b>Regression Metrics</b>: Mean Absolute Error, Mean Squared Error and R Squared."
   ]
  },
  {
   "cell_type": "markdown",
   "metadata": {},
   "source": [
    "# Dataset Used\n",
    "Pima Indians Diabetes"
   ]
  },
  {
   "cell_type": "markdown",
   "metadata": {},
   "source": [
    "# Read in and Explore Data Set"
   ]
  },
  {
   "cell_type": "code",
   "execution_count": null,
   "metadata": {},
   "outputs": [],
   "source": [
    "# Import libraries\n",
    "import pandas as pd\n",
    "from sklearn import model_selection\n",
    "from sklearn.linear_model import LogisticRegression\n",
    "from sklearn.metrics import confusion_matrix"
   ]
  },
  {
   "cell_type": "code",
   "execution_count": null,
   "metadata": {
    "scrolled": true
   },
   "outputs": [],
   "source": [
    "# Read in data\n",
    "df = pd.read_csv('./data/diabetes/diabetes.csv')\n",
    "df.head()"
   ]
  },
  {
   "cell_type": "code",
   "execution_count": null,
   "metadata": {},
   "outputs": [],
   "source": [
    "# Create features and target\n",
    "array = df.values\n",
    "X = array[:,0:8]\n",
    "y = array[:,8]"
   ]
  },
  {
   "cell_type": "code",
   "execution_count": null,
   "metadata": {
    "scrolled": true
   },
   "outputs": [],
   "source": [
    "# Print X shape and first 5 rows\n",
    "print(X.shape, \"\\n\", X[0:5])"
   ]
  },
  {
   "cell_type": "code",
   "execution_count": null,
   "metadata": {},
   "outputs": [],
   "source": [
    "# Print y shape and first 5 rows\n",
    "print(y.shape, \"\\n\", y[0:5])"
   ]
  },
  {
   "cell_type": "markdown",
   "metadata": {},
   "source": [
    "# Classification Metrics"
   ]
  },
  {
   "cell_type": "markdown",
   "metadata": {},
   "source": [
    "## Classification Accuracy\n",
    "- It is the number of correct predictions made as a ratio of all predictions made."
   ]
  },
  {
   "cell_type": "code",
   "execution_count": null,
   "metadata": {},
   "outputs": [],
   "source": [
    "# Define a K-Folds cross-validator.\n",
    "# Split dataset into k consecutive folds (without shuffling by default).\n",
    "# Each fold is then used once as a validation while the k - 1 remaining folds form the training set.\n",
    "kfold = model_selection.KFold(n_splits=10, random_state=7, shuffle=True)"
   ]
  },
  {
   "cell_type": "code",
   "execution_count": null,
   "metadata": {},
   "outputs": [],
   "source": [
    "# Instantiate a Logistic Regression classifier using 'liblinear' library with regularization applied.\n",
    "model = LogisticRegression(solver='liblinear')"
   ]
  },
  {
   "cell_type": "code",
   "execution_count": null,
   "metadata": {},
   "outputs": [],
   "source": [
    "# Evaluate a score by cross-validation. Scoring used is 'accuracy'\n",
    "scoring = 'accuracy'\n",
    "results = model_selection.cross_val_score(model, X, y, cv=kfold, scoring=scoring)\n",
    "print(\"Accuracy: \\nMean value = %.3f \\nStandard Deviation = %.3f\" % (results.mean(), results.std()))"
   ]
  },
  {
   "cell_type": "markdown",
   "metadata": {},
   "source": [
    "**Observations**:\n",
    "- Accuracy score is 77.1% accurate."
   ]
  },
  {
   "cell_type": "markdown",
   "metadata": {},
   "source": [
    "## Logistic Loss (Log Loss)\n",
    "- It is a performance metric for evaluating the predictions of probabilities of membership to a given class.\n",
    "- The scalar probability between 0 and 1 can be seen as a measure of confidence for a prediction by an algorithm. "
   ]
  },
  {
   "cell_type": "code",
   "execution_count": null,
   "metadata": {},
   "outputs": [],
   "source": [
    "# Define a K-Folds cross-validator.\n",
    "# Split dataset into k consecutive folds (without shuffling by default).\n",
    "# Each fold is then used once as a validation while the k - 1 remaining folds form the training set.\n",
    "kfold = model_selection.KFold(n_splits=10, random_state=7, shuffle=True)"
   ]
  },
  {
   "cell_type": "code",
   "execution_count": null,
   "metadata": {},
   "outputs": [],
   "source": [
    "# Instantiate a Logistic Regression classifier using 'liblinear' library with regularization applied.\n",
    "model = LogisticRegression(solver='liblinear')"
   ]
  },
  {
   "cell_type": "code",
   "execution_count": null,
   "metadata": {},
   "outputs": [],
   "source": [
    "# Evaluate a score by cross-validation. Scoring used is 'negative log loss'\n",
    "scoring = 'neg_log_loss'\n",
    "results = model_selection.cross_val_score(model, X, y, cv=kfold, scoring=scoring)\n",
    "print(\"Logloss: \\nMean value = %.3f \\nStandard Deviation = %.3f\" % (results.mean(), results.std()))"
   ]
  },
  {
   "cell_type": "markdown",
   "metadata": {},
   "source": [
    "**Observations**:\n",
    "-  The measure is inverted to be ascending when using the cross_val_score() function."
   ]
  },
  {
   "cell_type": "markdown",
   "metadata": {},
   "source": [
    "## Area Under ROC Curve\n",
    "- It is a performance metric for binary classification problems.\n",
    "- The AUC represents a model’s ability to discriminate between positive and negative classes. \n",
    "- An area of 1.0 represents a model that made all predictions perfectly. \n",
    "- An area of 0.5 represents a model as good as random."
   ]
  },
  {
   "cell_type": "code",
   "execution_count": null,
   "metadata": {},
   "outputs": [],
   "source": [
    "# Define a K-Folds cross-validator.\n",
    "# Split dataset into k consecutive folds (without shuffling by default).\n",
    "# Each fold is then used once as a validation while the k - 1 remaining folds form the training set.\n",
    "kfold = model_selection.KFold(n_splits=10, random_state=7, shuffle=True)"
   ]
  },
  {
   "cell_type": "code",
   "execution_count": null,
   "metadata": {},
   "outputs": [],
   "source": [
    "# Instantiate a Logistic Regression classifier using 'liblinear' library with regularization applied.\n",
    "model = LogisticRegression(solver='liblinear')"
   ]
  },
  {
   "cell_type": "code",
   "execution_count": null,
   "metadata": {},
   "outputs": [],
   "source": [
    "# Evaluate a score by cross-validation. Scoring used is 'roc auc'\n",
    "scoring = 'roc_auc'\n",
    "results = model_selection.cross_val_score(model, X, y, cv=kfold, scoring=scoring)\n",
    "print(\"AUC: \\nMean value = %.3f \\nStandard Deviation = %.3f\" % (results.mean(), results.std()))"
   ]
  },
  {
   "cell_type": "markdown",
   "metadata": {},
   "source": [
    "**Observations**:\n",
    "-  The AUC is relatively close to 1 and greater than 0.5, suggesting good predictions."
   ]
  },
  {
   "cell_type": "markdown",
   "metadata": {},
   "source": [
    "# Classification Prediction Results Reporting"
   ]
  },
  {
   "attachments": {
    "image.png": {
     "image/png": "[encoded data removed]"
    }
   },
   "cell_type": "markdown",
   "metadata": {},
   "source": [
    "## Confusion Matrix\n",
    "- It presents the accuracy of a model with two or more classes.\n",
    "- The table presents predictions on the x-axis and accuracy outcomes on the y-axis.\n",
    "- The cells of the table are the number of predictions made by a machine learning algorithm.\n",
    "\n",
    "![image.png](attachment:image.png)"
   ]
  },
  {
   "cell_type": "code",
   "execution_count": null,
   "metadata": {},
   "outputs": [],
   "source": [
    "# Split data into training and test sets\n",
    "test_size = 0.3\n",
    "X_train, X_test, y_train, y_test = model_selection.train_test_split(X, y, test_size=test_size, random_state=7)"
   ]
  },
  {
   "cell_type": "code",
   "execution_count": null,
   "metadata": {},
   "outputs": [],
   "source": [
    "# Instantiate a Logistic Regression classifier using 'liblinear' library with regularization applied.\n",
    "model = LogisticRegression(solver='liblinear')"
   ]
  },
  {
   "cell_type": "code",
   "execution_count": null,
   "metadata": {},
   "outputs": [],
   "source": [
    "# Construct Confusion Matrix\n",
    "model.fit(X_train, y_train)\n",
    "predicted = model.predict(X_test)\n",
    "matrix = confusion_matrix(y_test, predicted)\n",
    "print(matrix)"
   ]
  },
  {
   "cell_type": "markdown",
   "metadata": {},
   "source": [
    "**Observations**:\n",
    "-  Accuracy score is 76.2% accurate because there were 176 (130+46) out of 231 (130+17+38+46) predicted correctly."
   ]
  },
  {
   "cell_type": "markdown",
   "metadata": {},
   "source": [
    "## Classification Report\n",
    "- The classification_report() function displays the precision, recall, f1-score and support for each class."
   ]
  },
  {
   "cell_type": "code",
   "execution_count": null,
   "metadata": {},
   "outputs": [],
   "source": [
    "# Importing libraries\n",
    "from sklearn.metrics import precision_score\n",
    "from sklearn.metrics import recall_score\n",
    "from sklearn.metrics import f1_score\n",
    "from sklearn.metrics import classification_report"
   ]
  },
  {
   "cell_type": "code",
   "execution_count": null,
   "metadata": {},
   "outputs": [],
   "source": [
    "# Split data into training and test sets\n",
    "test_size = 0.3\n",
    "X_train, X_test, y_train, y_test = model_selection.train_test_split(X, y, test_size=test_size, random_state=7)"
   ]
  },
  {
   "cell_type": "code",
   "execution_count": null,
   "metadata": {},
   "outputs": [],
   "source": [
    "# Instantiate a Logistic Regression classifier using 'liblinear' library with regularization applied.\n",
    "model = LogisticRegression(solver='liblinear')"
   ]
  },
  {
   "cell_type": "code",
   "execution_count": null,
   "metadata": {},
   "outputs": [],
   "source": [
    "# Fit model\n",
    "model.fit(X_train, y_train)\n",
    "predicted = model.predict(X_test)"
   ]
  },
  {
   "cell_type": "code",
   "execution_count": null,
   "metadata": {},
   "outputs": [],
   "source": [
    "# Print Precision score of classifier\n",
    "print(f\"Precision Score of the classifier is: {precision_score(y_test, predicted)}\")"
   ]
  },
  {
   "cell_type": "code",
   "execution_count": null,
   "metadata": {},
   "outputs": [],
   "source": [
    "# Print Recall score of classifier\n",
    "print(f\"Recall Score of the classifier is: {recall_score(y_test, predicted)}\")"
   ]
  },
  {
   "cell_type": "code",
   "execution_count": null,
   "metadata": {},
   "outputs": [],
   "source": [
    "# Print F1 Score of classifier\n",
    "print(f\"F1 Score of the classifier is: {f1_score(y_test, predicted)}\")"
   ]
  },
  {
   "cell_type": "code",
   "execution_count": null,
   "metadata": {},
   "outputs": [],
   "source": [
    "# Print Classification Report\n",
    "report = classification_report(y_test, predicted)\n",
    "print(report)"
   ]
  },
  {
   "cell_type": "markdown",
   "metadata": {},
   "source": [
    "**Observations**:\n",
    "- There is good prediction and recall for the algorithm."
   ]
  },
  {
   "cell_type": "markdown",
   "metadata": {},
   "source": [
    "# Regression Metrics"
   ]
  },
  {
   "cell_type": "markdown",
   "metadata": {},
   "source": [
    "## Read in and Explore Data Set"
   ]
  },
  {
   "cell_type": "code",
   "execution_count": null,
   "metadata": {},
   "outputs": [],
   "source": [
    "# Import libraries\n",
    "from sklearn.linear_model import LinearRegression"
   ]
  },
  {
   "cell_type": "code",
   "execution_count": null,
   "metadata": {
    "scrolled": true
   },
   "outputs": [],
   "source": [
    "# Read in data\n",
    "columns = ['CRIM', 'ZN', 'INDUS', 'CHAS', 'NOX', 'RM', 'AGE', 'DIS', 'RAD', 'TAX', 'PTRATIO', 'B', 'LSTAT', 'MEDV']\n",
    "df = pd.read_csv('./data/boston/housing.txt', delim_whitespace=True, names=columns)\n",
    "df.head()"
   ]
  },
  {
   "cell_type": "code",
   "execution_count": null,
   "metadata": {},
   "outputs": [],
   "source": [
    "# Create features and target\n",
    "array = df.values\n",
    "X = array[:,0:13]\n",
    "y = array[:,13]"
   ]
  },
  {
   "cell_type": "code",
   "execution_count": null,
   "metadata": {
    "scrolled": true
   },
   "outputs": [],
   "source": [
    "# Print X shape and first 5 rows\n",
    "print(X.shape, \"\\n\", X[0:5])"
   ]
  },
  {
   "cell_type": "code",
   "execution_count": null,
   "metadata": {},
   "outputs": [],
   "source": [
    "# Print y shape and first 5 rows\n",
    "print(y.shape, \"\\n\", y[0:5])"
   ]
  },
  {
   "cell_type": "markdown",
   "metadata": {},
   "source": [
    "## Mean Absolute Error (MAE)\n",
    "- It is the average of the absolute differences between predictions and actual values. \n",
    "- It gives an idea of how wrong the predictions were.\n",
    "- The measure gives an idea of the magnitude of the error, but no idea of the direction (e.g. over or under predicting)."
   ]
  },
  {
   "cell_type": "code",
   "execution_count": null,
   "metadata": {},
   "outputs": [],
   "source": [
    "# Define a K-Folds cross-validator.\n",
    "# Split dataset into k consecutive folds (without shuffling by default).\n",
    "# Each fold is then used once as a validation while the k - 1 remaining folds form the training set.\n",
    "kfold = model_selection.KFold(n_splits=10, random_state=7, shuffle=True)"
   ]
  },
  {
   "cell_type": "code",
   "execution_count": null,
   "metadata": {},
   "outputs": [],
   "source": [
    "# Instantiate a Linear Regression classifier.\n",
    "model = LinearRegression()"
   ]
  },
  {
   "cell_type": "code",
   "execution_count": null,
   "metadata": {},
   "outputs": [],
   "source": [
    "# Evaluate a score by cross-validation. Scoring used is 'negative mean absolute error'\n",
    "scoring = 'neg_mean_absolute_error'\n",
    "results = model_selection.cross_val_score(model, X, y, cv=kfold, scoring=scoring)\n",
    "print(\"MAE: \\nMean value = %.3f \\nStandard Deviation = %.3f\" % (results.mean(), results.std()))"
   ]
  },
  {
   "cell_type": "markdown",
   "metadata": {},
   "source": [
    "**Observations**:\n",
    "- A value of 0 indicates no error or perfect predictions.\n",
    "- This metric is inverted by the cross_val_score() function."
   ]
  },
  {
   "cell_type": "markdown",
   "metadata": {},
   "source": [
    "## Mean Squared Error (MSE)\n",
    "- The Mean Squared Error (or MSE) is much like the mean absolute error in that it provides a gross idea of the magnitude of error.\n",
    "- Taking the square root of the mean squared error converts the units back to the original units of the output variable and can be meaningful for description and presentation. This is called the <b>Root Mean Squared Error (or RMSE)</b>.\n"
   ]
  },
  {
   "cell_type": "code",
   "execution_count": null,
   "metadata": {},
   "outputs": [],
   "source": [
    "# Define a K-Folds cross-validator.\n",
    "# Split dataset into k consecutive folds (without shuffling by default).\n",
    "# Each fold is then used once as a validation while the k - 1 remaining folds form the training set.\n",
    "kfold = model_selection.KFold(n_splits=10, random_state=7, shuffle=True)"
   ]
  },
  {
   "cell_type": "code",
   "execution_count": null,
   "metadata": {},
   "outputs": [],
   "source": [
    "# Instantiate a Linear Regression classifier.\n",
    "model = LinearRegression()"
   ]
  },
  {
   "cell_type": "code",
   "execution_count": null,
   "metadata": {},
   "outputs": [],
   "source": [
    "# Evaluate a score by cross-validation. Scoring used is 'negative mean squared error'\n",
    "scoring = 'neg_mean_squared_error'\n",
    "results = model_selection.cross_val_score(model, X, y, cv=kfold, scoring=scoring)\n",
    "print(\"MSE: \\nMean value = %.3f \\nStandard Deviation = %.3f\" % (results.mean(), results.std()))"
   ]
  },
  {
   "cell_type": "markdown",
   "metadata": {},
   "source": [
    "**Observations**:\n",
    "- This metric is inverted by the cross_val_score() function.\n",
    "- RMSE is calculated by taking the square root of the absolute value."
   ]
  },
  {
   "cell_type": "markdown",
   "metadata": {},
   "source": [
    "## R Squared Metric\n",
    "- The R^2 (or R Squared) metric provides an indication of the goodness of fit of a set of predictions to the actual values. Also known as the <b>coefficient of determination</b>.\n",
    "- This is a value between 0 and 1 for no-fit and perfect fit respectively."
   ]
  },
  {
   "cell_type": "code",
   "execution_count": null,
   "metadata": {},
   "outputs": [],
   "source": [
    "# Define a K-Folds cross-validator.\n",
    "# Split dataset into k consecutive folds (without shuffling by default).\n",
    "# Each fold is then used once as a validation while the k - 1 remaining folds form the training set.\n",
    "kfold = model_selection.KFold(n_splits=10, random_state=7, shuffle=True)"
   ]
  },
  {
   "cell_type": "code",
   "execution_count": null,
   "metadata": {},
   "outputs": [],
   "source": [
    "# Instantiate a Linear Regression classifier.\n",
    "model = LinearRegression()"
   ]
  },
  {
   "cell_type": "code",
   "execution_count": null,
   "metadata": {},
   "outputs": [],
   "source": [
    "# Evaluate a score by cross-validation. Scoring used is 'r squared'\n",
    "scoring = 'r2'\n",
    "results = model_selection.cross_val_score(model, X, y, cv=kfold, scoring=scoring)\n",
    "print(\"R^2: \\nMean value = %.3f \\nStandard Deviation = %.3f\" % (results.mean(), results.std()))"
   ]
  },
  {
   "cell_type": "markdown",
   "metadata": {},
   "source": [
    "**Observations**:\n",
    "- The predictions have a good fit to the actual values with a value close to one at 0.718."
   ]
  },
  {
   "cell_type": "markdown",
   "metadata": {},
   "source": [
    "<center>\n",
    "  <a href=\"MLSD-06-MachineLearningErrors-A.ipynb\" target=\"_self\">Machine Learning Errors A</a> | <a href=\"./\">Content Page</a> | <a href=\"MLSD-07-ModelEvaluation-Ex-1.ipynb\">Model Evaluation Exercise 1</a>\n",
    "</center>"
   ]
  }
 ],
 "metadata": {
  "anaconda-cloud": {},
  "kernelspec": {
   "display_name": "Python 3 (ipykernel)",
   "language": "python",
   "name": "python3"
  },
  "language_info": {
   "codemirror_mode": {
    "name": "ipython",
    "version": 3
   },
   "file_extension": ".py",
   "mimetype": "text/x-python",
   "name": "python",
   "nbconvert_exporter": "python",
   "pygments_lexer": "ipython3",
   "version": "3.9.13"
  }
 },
 "nbformat": 4,
 "nbformat_minor": 1
}
